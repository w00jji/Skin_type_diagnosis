{
 "cells": [
  {
   "cell_type": "code",
   "execution_count": 1,
   "id": "7afa4b35",
   "metadata": {},
   "outputs": [
    {
     "name": "stderr",
     "output_type": "stream",
     "text": [
      "Epoch 1/30: 100%|██████████████████████████████████████████████████████████| 41/41 [00:44<00:00,  1.10s/it, loss=0.644]\n"
     ]
    },
    {
     "name": "stdout",
     "output_type": "stream",
     "text": [
      "Epoch 1/30, Loss: 0.64407384104845\n",
      "Validation Accuracy: 76.01246105919003%\n"
     ]
    },
    {
     "name": "stderr",
     "output_type": "stream",
     "text": [
      "Epoch 2/30: 100%|██████████████████████████████████████████████████████████| 41/41 [00:31<00:00,  1.30it/s, loss=0.525]\n"
     ]
    },
    {
     "name": "stdout",
     "output_type": "stream",
     "text": [
      "Epoch 2/30, Loss: 0.5251805142658513\n",
      "Validation Accuracy: 77.57009345794393%\n"
     ]
    },
    {
     "name": "stderr",
     "output_type": "stream",
     "text": [
      "Epoch 3/30: 100%|██████████████████████████████████████████████████████████| 41/41 [00:29<00:00,  1.38it/s, loss=0.448]\n"
     ]
    },
    {
     "name": "stdout",
     "output_type": "stream",
     "text": [
      "Epoch 3/30, Loss: 0.44763345107799624\n",
      "Validation Accuracy: 77.25856697819314%\n"
     ]
    },
    {
     "name": "stderr",
     "output_type": "stream",
     "text": [
      "Epoch 4/30: 100%|██████████████████████████████████████████████████████████| 41/41 [00:28<00:00,  1.46it/s, loss=0.424]\n"
     ]
    },
    {
     "name": "stdout",
     "output_type": "stream",
     "text": [
      "Epoch 4/30, Loss: 0.42420146450763796\n",
      "Validation Accuracy: 76.32398753894081%\n"
     ]
    },
    {
     "name": "stderr",
     "output_type": "stream",
     "text": [
      "Epoch 5/30: 100%|██████████████████████████████████████████████████████████| 41/41 [00:27<00:00,  1.51it/s, loss=0.378]\n"
     ]
    },
    {
     "name": "stdout",
     "output_type": "stream",
     "text": [
      "Epoch 5/30, Loss: 0.37761402493569907\n",
      "Validation Accuracy: 77.57009345794393%\n"
     ]
    },
    {
     "name": "stderr",
     "output_type": "stream",
     "text": [
      "Epoch 6/30: 100%|██████████████████████████████████████████████████████████| 41/41 [00:27<00:00,  1.51it/s, loss=0.359]\n"
     ]
    },
    {
     "name": "stdout",
     "output_type": "stream",
     "text": [
      "Epoch 6/30, Loss: 0.3585770293706801\n",
      "Validation Accuracy: 72.89719626168224%\n"
     ]
    },
    {
     "name": "stderr",
     "output_type": "stream",
     "text": [
      "Epoch 7/30: 100%|██████████████████████████████████████████████████████████| 41/41 [00:27<00:00,  1.50it/s, loss=0.334]\n"
     ]
    },
    {
     "name": "stdout",
     "output_type": "stream",
     "text": [
      "Epoch 7/30, Loss: 0.334016204243753\n",
      "Validation Accuracy: 74.76635514018692%\n",
      "Early stopping 적용\n"
     ]
    },
    {
     "data": {
      "image/png": "[encoded data removed]",
      "text/plain": [
       "<Figure size 800x600 with 2 Axes>"
      ]
     },
     "metadata": {},
     "output_type": "display_data"
    }
   ],
   "source": [
    "import os\n",
    "import torch\n",
    "import torchvision.models as models\n",
    "import torchvision.transforms as T\n",
    "from torch.utils.data import Dataset, DataLoader, WeightedRandomSampler\n",
    "from PIL import Image\n",
    "from tqdm import tqdm  # TQDM import\n",
    "import torch.nn as nn\n",
    "from collections import Counter\n",
    "from sklearn.metrics import confusion_matrix  # 혼동 행렬을 위한 import\n",
    "import numpy as np\n",
    "import seaborn as sns\n",
    "import matplotlib.pyplot as plt\n",
    "\n",
    "# Custom dataset\n",
    "class CustomDataset(Dataset):\n",
    "    def __init__(self, root_dir, transform=None):\n",
    "        self.root_dir = root_dir\n",
    "        self.transform = transform\n",
    "        self.classes = os.listdir(root_dir)\n",
    "        self.data = []\n",
    "        \n",
    "        for label in range(len(self.classes)):\n",
    "            class_folder = os.path.join(root_dir, self.classes[label])\n",
    "            for filename in os.listdir(class_folder):\n",
    "                img_path = os.path.join(class_folder, filename)\n",
    "                self.data.append((img_path, label))\n",
    "\n",
    "    def __len__(self):\n",
    "        return len(self.data)\n",
    "\n",
    "    def __getitem__(self, idx):\n",
    "        img_path, label = self.data[idx]\n",
    "        image = Image.open(img_path).convert('RGB')  # 이미지 RGB로 변환\n",
    "        if self.transform:\n",
    "            image = self.transform(image)\n",
    "        return image, label\n",
    "\n",
    "# 경로 및 배치 크기 설정\n",
    "data_dir = \".\"\n",
    "batch_size = 64\n",
    "\n",
    "# 데이터 증강 포함한 이미지 전처리\n",
    "transform = T.Compose([\n",
    "    T.Resize((224, 224)),\n",
    "    T.RandomHorizontalFlip(),\n",
    "    T.RandomRotation(15),  # 더 큰 회전 각도\n",
    "    T.RandomAffine(degrees=0, translate=(0.1, 0.1)),  # 이미지 이동\n",
    "    T.GaussianBlur(kernel_size=3),  # Gaussian Blur 추가\n",
    "    T.ToTensor(),\n",
    "    T.Normalize(mean=[0.485, 0.456, 0.406], std=[0.229, 0.224, 0.225])\n",
    "])\n",
    "\n",
    "# 학습 및 검증 데이터셋 생성\n",
    "train_dataset = CustomDataset(os.path.join(data_dir, 'train'), transform=transform)\n",
    "valid_dataset = CustomDataset(os.path.join(data_dir, 'valid'), transform=transform)\n",
    "\n",
    "# 각 클래스의 데이터 개수 계산 (Counter 사용)\n",
    "class_counts = Counter([label for _, label in train_dataset])\n",
    "\n",
    "# 클래스별로 가중치를 부여 (데이터 개수의 역수 사용)\n",
    "class_weights = {cls: 1.0 / count for cls, count in class_counts.items()}\n",
    "\n",
    "# 각 샘플의 가중치를 리스트로 변환\n",
    "sample_weights = [class_weights[label] for _, label in train_dataset]\n",
    "\n",
    "# WeightedRandomSampler 생성\n",
    "sampler = WeightedRandomSampler(weights=sample_weights, num_samples=len(sample_weights))\n",
    "\n",
    "# WeightedRandomSampler를 적용한 DataLoader\n",
    "train_loader = DataLoader(train_dataset, batch_size=batch_size, sampler=sampler)\n",
    "valid_loader = DataLoader(valid_dataset, batch_size=batch_size, shuffle=False)\n",
    "\n",
    "# 사전 학습된 resnext50_32x4d 모델 사용\n",
    "from torchvision.models import ResNeXt50_32X4D_Weights\n",
    "\n",
    "weights = ResNeXt50_32X4D_Weights.DEFAULT\n",
    "model = models.resnext50_32x4d(weights=weights)\n",
    "\n",
    "# 모든 레이어 학습 가능하도록 설정 (전이 학습 제외)\n",
    "for param in model.parameters():\n",
    "    param.requires_grad = True\n",
    "\n",
    "# 출력 레이어를 분류하려는 클래스 수에 맞게 수정 (드롭아웃 비율 0.5로 설정)\n",
    "model.fc = nn.Sequential(\n",
    "    nn.Dropout(0.5),  # Dropout 비율을 0.5로 증가\n",
    "    nn.Linear(model.fc.in_features, len(train_dataset.classes))\n",
    ")\n",
    "\n",
    "device = torch.device(\"cuda\" if torch.cuda.is_available() else \"cpu\")\n",
    "model.to(device)\n",
    "\n",
    "# Early Stopping 설정\n",
    "best_accuracy = 0\n",
    "best_cm = None  # 베스트 모델일 때 혼동 행렬 저장\n",
    "patience = 5  # 개선되지 않는 에포크를 허용하는 최대 수\n",
    "counter = 0\n",
    "\n",
    "# 손실 함수 및 AdamW 옵티마이저 설정 (학습률 0.00005로 감소, 가중치 감쇠 0.1로 증가)\n",
    "criterion = torch.nn.CrossEntropyLoss()\n",
    "optimizer = torch.optim.AdamW(model.parameters(), lr=0.00005, weight_decay=0.1)\n",
    "\n",
    "# 학습률 스케줄러 추가 (학습률 점진적 감소, gamma=0.5, step_size=10)\n",
    "scheduler = torch.optim.lr_scheduler.StepLR(optimizer, step_size=10, gamma=0.5)\n",
    "\n",
    "# 학습 과정 (TQDM으로 진행 상황 시각화, 에포크 30)\n",
    "num_epochs = 30\n",
    "for epoch in range(num_epochs):\n",
    "    model.train()\n",
    "    running_loss = 0.0\n",
    "\n",
    "    # TQDM으로 학습 진행 표시\n",
    "    train_loader_iter = tqdm(train_loader, desc=f\"Epoch {epoch+1}/{num_epochs}\")\n",
    "    \n",
    "    for images, labels in train_loader_iter:\n",
    "        images, labels = images.to(device), labels.to(device)\n",
    "        optimizer.zero_grad()\n",
    "        outputs = model(images)\n",
    "        loss = criterion(outputs, labels)\n",
    "        loss.backward()\n",
    "        optimizer.step()\n",
    "        \n",
    "        running_loss += loss.item()\n",
    "        train_loader_iter.set_postfix(loss=running_loss / len(train_loader))\n",
    "    \n",
    "    print(f\"Epoch {epoch+1}/{num_epochs}, Loss: {running_loss/len(train_loader)}\")\n",
    "    \n",
    "    # 학습률 스케줄러 업데이트\n",
    "    scheduler.step()\n",
    "\n",
    "    # 검증 평가\n",
    "    model.eval()\n",
    "    correct = 0\n",
    "    total = 0\n",
    "    all_labels = []\n",
    "    all_preds = []\n",
    "    with torch.no_grad():\n",
    "        for images, labels in valid_loader:\n",
    "            images, labels = images.to(device), labels.to(device)\n",
    "            outputs = model(images)\n",
    "            _, predicted = torch.max(outputs, 1)\n",
    "            total += labels.size(0)\n",
    "            correct += (predicted == labels).sum().item()\n",
    "            \n",
    "            all_labels.extend(labels.cpu().numpy())  # 실제 라벨 저장\n",
    "            all_preds.extend(predicted.cpu().numpy())  # 예측 라벨 저장\n",
    "\n",
    "    accuracy = 100 * correct / total\n",
    "    print(f'Validation Accuracy: {accuracy}%')\n",
    "\n",
    "    # Early Stopping 기준\n",
    "    if accuracy > best_accuracy:\n",
    "        best_accuracy = accuracy\n",
    "        counter = 0  # 성능 개선 시 카운터 초기화\n",
    "        torch.save(model.state_dict(), 'best_model.pth')  # 최적의 모델 저장\n",
    "\n",
    "        # 베스트 모델일 때 혼동 행렬 계산 및 저장\n",
    "        best_cm = confusion_matrix(all_labels, all_preds)\n",
    "\n",
    "    else:\n",
    "        counter += 1\n",
    "        if counter >= patience:\n",
    "            print(\"Early stopping 적용\")\n",
    "            break\n",
    "\n",
    "# 베스트 모델의 혼동 행렬 시각화\n",
    "if best_cm is not None:\n",
    "    plt.figure(figsize=(8, 6))\n",
    "    sns.heatmap(best_cm, annot=True, fmt='d', cmap='Blues', xticklabels=train_dataset.classes, yticklabels=train_dataset.classes)\n",
    "    plt.xlabel('Predicted')\n",
    "    plt.ylabel('True')\n",
    "    plt.title(f'Best Model Confusion Matrix')\n",
    "    plt.show()\n"
   ]
  },
  {
   "cell_type": "markdown",
   "id": "97c2f6fc",
   "metadata": {},
   "source": [
    "## ResNet 이용"
   ]
  },
  {
   "cell_type": "code",
   "execution_count": 2,
   "id": "894af88f",
   "metadata": {},
   "outputs": [
    {
     "name": "stderr",
     "output_type": "stream",
     "text": [
      "Epoch 1/30: 100%|██████████████████████████████████████████████████████████| 41/41 [00:14<00:00,  2.76it/s, loss=0.617]\n"
     ]
    },
    {
     "name": "stdout",
     "output_type": "stream",
     "text": [
      "Epoch 1/30, Loss: 0.6165396752880841\n",
      "Validation Accuracy: 74.76635514018692%\n"
     ]
    },
    {
     "name": "stderr",
     "output_type": "stream",
     "text": [
      "Epoch 2/30: 100%|███████████████████████████████████████████████████████████| 41/41 [00:15<00:00,  2.60it/s, loss=0.49]\n"
     ]
    },
    {
     "name": "stdout",
     "output_type": "stream",
     "text": [
      "Epoch 2/30, Loss: 0.48998185338043587\n",
      "Validation Accuracy: 69.78193146417445%\n"
     ]
    },
    {
     "name": "stderr",
     "output_type": "stream",
     "text": [
      "Epoch 3/30: 100%|███████████████████████████████████████████████████████████| 41/41 [00:14<00:00,  2.76it/s, loss=0.42]\n"
     ]
    },
    {
     "name": "stdout",
     "output_type": "stream",
     "text": [
      "Epoch 3/30, Loss: 0.4195900501274481\n",
      "Validation Accuracy: 64.797507788162%\n"
     ]
    },
    {
     "name": "stderr",
     "output_type": "stream",
     "text": [
      "Epoch 4/30: 100%|██████████████████████████████████████████████████████████| 41/41 [00:14<00:00,  2.82it/s, loss=0.365]\n"
     ]
    },
    {
     "name": "stdout",
     "output_type": "stream",
     "text": [
      "Epoch 4/30, Loss: 0.36519571884376245\n",
      "Validation Accuracy: 77.25856697819314%\n"
     ]
    },
    {
     "name": "stderr",
     "output_type": "stream",
     "text": [
      "Epoch 5/30: 100%|██████████████████████████████████████████████████████████| 41/41 [00:15<00:00,  2.63it/s, loss=0.342]\n"
     ]
    },
    {
     "name": "stdout",
     "output_type": "stream",
     "text": [
      "Epoch 5/30, Loss: 0.3416657316975477\n",
      "Validation Accuracy: 75.0778816199377%\n"
     ]
    },
    {
     "name": "stderr",
     "output_type": "stream",
     "text": [
      "Epoch 6/30: 100%|██████████████████████████████████████████████████████████| 41/41 [00:14<00:00,  2.84it/s, loss=0.314]\n"
     ]
    },
    {
     "name": "stdout",
     "output_type": "stream",
     "text": [
      "Epoch 6/30, Loss: 0.31413243347551767\n",
      "Validation Accuracy: 70.40498442367601%\n"
     ]
    },
    {
     "name": "stderr",
     "output_type": "stream",
     "text": [
      "Epoch 7/30: 100%|██████████████████████████████████████████████████████████| 41/41 [00:14<00:00,  2.79it/s, loss=0.263]\n"
     ]
    },
    {
     "name": "stdout",
     "output_type": "stream",
     "text": [
      "Epoch 7/30, Loss: 0.2634535337366709\n",
      "Validation Accuracy: 77.88161993769471%\n"
     ]
    },
    {
     "name": "stderr",
     "output_type": "stream",
     "text": [
      "Epoch 8/30: 100%|██████████████████████████████████████████████████████████| 41/41 [00:15<00:00,  2.64it/s, loss=0.215]\n"
     ]
    },
    {
     "name": "stdout",
     "output_type": "stream",
     "text": [
      "Epoch 8/30, Loss: 0.2154035937131905\n",
      "Validation Accuracy: 71.33956386292834%\n"
     ]
    },
    {
     "name": "stderr",
     "output_type": "stream",
     "text": [
      "Epoch 9/30: 100%|██████████████████████████████████████████████████████████| 41/41 [00:14<00:00,  2.79it/s, loss=0.215]\n"
     ]
    },
    {
     "name": "stdout",
     "output_type": "stream",
     "text": [
      "Epoch 9/30, Loss: 0.21508330488350333\n",
      "Validation Accuracy: 75.38940809968847%\n"
     ]
    },
    {
     "name": "stderr",
     "output_type": "stream",
     "text": [
      "Epoch 10/30: 100%|█████████████████████████████████████████████████████████| 41/41 [00:14<00:00,  2.75it/s, loss=0.179]\n"
     ]
    },
    {
     "name": "stdout",
     "output_type": "stream",
     "text": [
      "Epoch 10/30, Loss: 0.1786824931822172\n",
      "Validation Accuracy: 75.0778816199377%\n",
      "Early stopping 적용\n"
     ]
    },
    {
     "data": {
      "image/png": "[encoded data removed]",
      "text/plain": [
       "<Figure size 800x600 with 2 Axes>"
      ]
     },
     "metadata": {},
     "output_type": "display_data"
    }
   ],
   "source": [
    "import os\n",
    "import torch\n",
    "import torchvision.models as models\n",
    "import torchvision.transforms as T\n",
    "from torch.utils.data import Dataset, DataLoader, WeightedRandomSampler\n",
    "from PIL import Image\n",
    "from tqdm import tqdm  # TQDM import\n",
    "import torch.nn as nn\n",
    "from collections import Counter\n",
    "from sklearn.metrics import confusion_matrix  # 혼동 행렬을 위한 import\n",
    "import numpy as np\n",
    "import seaborn as sns\n",
    "import matplotlib.pyplot as plt\n",
    "\n",
    "# Custom dataset\n",
    "class CustomDataset(Dataset):\n",
    "    def __init__(self, root_dir, transform=None):\n",
    "        self.root_dir = root_dir\n",
    "        self.transform = transform\n",
    "        self.classes = os.listdir(root_dir)\n",
    "        self.data = []\n",
    "        \n",
    "        for label in range(len(self.classes)):\n",
    "            class_folder = os.path.join(root_dir, self.classes[label])\n",
    "            for filename in os.listdir(class_folder):\n",
    "                img_path = os.path.join(class_folder, filename)\n",
    "                self.data.append((img_path, label))\n",
    "\n",
    "    def __len__(self):\n",
    "        return len(self.data)\n",
    "\n",
    "    def __getitem__(self, idx):\n",
    "        img_path, label = self.data[idx]\n",
    "        image = Image.open(img_path).convert('RGB')  # 이미지 RGB로 변환\n",
    "        if self.transform:\n",
    "            image = self.transform(image)\n",
    "        return image, label\n",
    "\n",
    "# 경로 및 배치 크기 설정\n",
    "data_dir = \".\"\n",
    "batch_size = 64\n",
    "\n",
    "# 데이터 증강 포함한 이미지 전처리\n",
    "transform = T.Compose([\n",
    "    T.Resize((224, 224)),\n",
    "    T.RandomHorizontalFlip(),\n",
    "    T.RandomRotation(15),  # 더 큰 회전 각도\n",
    "    T.RandomAffine(degrees=0, translate=(0.1, 0.1)),  # 이미지 이동\n",
    "    T.GaussianBlur(kernel_size=3),  # Gaussian Blur 추가\n",
    "    T.ToTensor(),\n",
    "    T.Normalize(mean=[0.485, 0.456, 0.406], std=[0.229, 0.224, 0.225])\n",
    "])\n",
    "\n",
    "# 학습 및 검증 데이터셋 생성\n",
    "train_dataset = CustomDataset(os.path.join(data_dir, 'train'), transform=transform)\n",
    "valid_dataset = CustomDataset(os.path.join(data_dir, 'valid'), transform=transform)\n",
    "\n",
    "# 각 클래스의 데이터 개수 계산 (Counter 사용)\n",
    "class_counts = Counter([label for _, label in train_dataset])\n",
    "\n",
    "# 클래스별로 가중치를 부여 (데이터 개수의 역수 사용)\n",
    "class_weights = {cls: 1.0 / count for cls, count in class_counts.items()}\n",
    "\n",
    "# 각 샘플의 가중치를 리스트로 변환\n",
    "sample_weights = [class_weights[label] for _, label in train_dataset]\n",
    "\n",
    "# WeightedRandomSampler 생성\n",
    "sampler = WeightedRandomSampler(weights=sample_weights, num_samples=len(sample_weights))\n",
    "\n",
    "# WeightedRandomSampler를 적용한 DataLoader\n",
    "train_loader = DataLoader(train_dataset, batch_size=batch_size, sampler=sampler)\n",
    "valid_loader = DataLoader(valid_dataset, batch_size=batch_size, shuffle=False)\n",
    "\n",
    "# 사전 학습된 ResNet18 모델 사용\n",
    "from torchvision.models import ResNet18_Weights\n",
    "\n",
    "weights = ResNet18_Weights.DEFAULT\n",
    "model = models.resnet18(weights=weights)\n",
    "\n",
    "# 모든 레이어 학습 가능하도록 설정 (전이 학습 제외)\n",
    "for param in model.parameters():\n",
    "    param.requires_grad = True\n",
    "\n",
    "# 출력 레이어를 분류하려는 클래스 수에 맞게 수정 (드롭아웃 비율 0.5로 설정)\n",
    "model.fc = nn.Sequential(\n",
    "    nn.Dropout(0.5),  # Dropout 비율을 0.5로 증가\n",
    "    nn.Linear(model.fc.in_features, len(train_dataset.classes))\n",
    ")\n",
    "\n",
    "device = torch.device(\"cuda\" if torch.cuda.is_available() else \"cpu\")\n",
    "model.to(device)\n",
    "\n",
    "# Early Stopping 설정\n",
    "best_accuracy = 0\n",
    "best_cm = None  # 베스트 모델일 때 혼동 행렬 저장\n",
    "patience = 3  # 개선되지 않는 에포크를 허용하는 최대 수\n",
    "counter = 0\n",
    "\n",
    "# 손실 함수 및 AdamW 옵티마이저 설정 (학습률 0.0001로 설정)\n",
    "criterion = torch.nn.CrossEntropyLoss()\n",
    "optimizer = torch.optim.AdamW(model.parameters(), lr=0.0001, weight_decay=0.1)\n",
    "\n",
    "# 학습률 스케줄러 추가 (학습률 점진적 감소, gamma=0.5, step_size=10)\n",
    "scheduler = torch.optim.lr_scheduler.StepLR(optimizer, step_size=10, gamma=0.5)\n",
    "\n",
    "# 학습 과정 (TQDM으로 진행 상황 시각화, 에포크 30)\n",
    "num_epochs = 30\n",
    "for epoch in range(num_epochs):\n",
    "    model.train()\n",
    "    running_loss = 0.0\n",
    "\n",
    "    # TQDM으로 학습 진행 표시\n",
    "    train_loader_iter = tqdm(train_loader, desc=f\"Epoch {epoch+1}/{num_epochs}\")\n",
    "    \n",
    "    for images, labels in train_loader_iter:\n",
    "        images, labels = images.to(device), labels.to(device)\n",
    "        optimizer.zero_grad()\n",
    "        outputs = model(images)\n",
    "        loss = criterion(outputs, labels)\n",
    "        loss.backward()\n",
    "        optimizer.step()\n",
    "        \n",
    "        running_loss += loss.item()\n",
    "        train_loader_iter.set_postfix(loss=running_loss / len(train_loader))\n",
    "    \n",
    "    print(f\"Epoch {epoch+1}/{num_epochs}, Loss: {running_loss/len(train_loader)}\")\n",
    "    \n",
    "    # 학습률 스케줄러 업데이트\n",
    "    scheduler.step()\n",
    "\n",
    "    # 검증 평가\n",
    "    model.eval()\n",
    "    correct = 0\n",
    "    total = 0\n",
    "    all_labels = []\n",
    "    all_preds = []\n",
    "    with torch.no_grad():\n",
    "        for images, labels in valid_loader:\n",
    "            images, labels = images.to(device), labels.to(device)\n",
    "            outputs = model(images)\n",
    "            _, predicted = torch.max(outputs, 1)\n",
    "            total += labels.size(0)\n",
    "            correct += (predicted == labels).sum().item()\n",
    "            \n",
    "            all_labels.extend(labels.cpu().numpy())  # 실제 라벨 저장\n",
    "            all_preds.extend(predicted.cpu().numpy())  # 예측 라벨 저장\n",
    "\n",
    "    accuracy = 100 * correct / total\n",
    "    print(f'Validation Accuracy: {accuracy}%')\n",
    "\n",
    "    # Early Stopping 기준\n",
    "    if accuracy > best_accuracy:\n",
    "        best_accuracy = accuracy\n",
    "        counter = 0  # 성능 개선 시 카운터 초기화\n",
    "        torch.save(model.state_dict(), 'best_model.pth')  # 최적의 모델 저장\n",
    "\n",
    "        # 베스트 모델일 때 혼동 행렬 계산 및 저장\n",
    "        best_cm = confusion_matrix(all_labels, all_preds)\n",
    "\n",
    "    else:\n",
    "        counter += 1\n",
    "        if counter >= patience:\n",
    "            print(\"Early stopping 적용\")\n",
    "            break\n",
    "\n",
    "# 베스트 모델의 혼동 행렬 시각화\n",
    "if best_cm is not None:\n",
    "    plt.figure(figsize=(8, 6))\n",
    "    sns.heatmap(best_cm, annot=True, fmt='d', cmap='Blues', xticklabels=train_dataset.classes, yticklabels=train_dataset.classes)\n",
    "    plt.xlabel('Predicted')\n",
    "    plt.ylabel('True')\n",
    "    plt.title(f'Best Model Confusion Matrix')\n",
    "    plt.show()\n"
   ]
  },
  {
   "cell_type": "code",
   "execution_count": 2,
   "id": "ce22da7d",
   "metadata": {
    "scrolled": false
   },
   "outputs": [
    {
     "name": "stderr",
     "output_type": "stream",
     "text": [
      "Epoch 1/30: 100%|██████████████████████████████████████████████████████████| 41/41 [00:16<00:00,  2.49it/s, loss=0.689]\n"
     ]
    },
    {
     "name": "stdout",
     "output_type": "stream",
     "text": [
      "Epoch 1/30, Loss: 0.6891584032919349\n",
      "Validation Accuracy: 69.1588785046729%\n"
     ]
    },
    {
     "name": "stderr",
     "output_type": "stream",
     "text": [
      "Epoch 2/30: 100%|██████████████████████████████████████████████████████████| 41/41 [00:16<00:00,  2.49it/s, loss=0.674]\n"
     ]
    },
    {
     "name": "stdout",
     "output_type": "stream",
     "text": [
      "Epoch 2/30, Loss: 0.6743151501911443\n",
      "Validation Accuracy: 74.45482866043614%\n"
     ]
    },
    {
     "name": "stderr",
     "output_type": "stream",
     "text": [
      "Epoch 3/30: 100%|██████████████████████████████████████████████████████████| 41/41 [00:16<00:00,  2.48it/s, loss=0.648]\n"
     ]
    },
    {
     "name": "stdout",
     "output_type": "stream",
     "text": [
      "Epoch 3/30, Loss: 0.648248990861381\n",
      "Validation Accuracy: 74.45482866043614%\n"
     ]
    },
    {
     "name": "stderr",
     "output_type": "stream",
     "text": [
      "Epoch 4/30: 100%|██████████████████████████████████████████████████████████| 41/41 [00:16<00:00,  2.51it/s, loss=0.635]\n"
     ]
    },
    {
     "name": "stdout",
     "output_type": "stream",
     "text": [
      "Epoch 4/30, Loss: 0.6347773176867787\n",
      "Validation Accuracy: 75.0778816199377%\n"
     ]
    },
    {
     "name": "stderr",
     "output_type": "stream",
     "text": [
      "Epoch 5/30: 100%|██████████████████████████████████████████████████████████| 41/41 [00:16<00:00,  2.47it/s, loss=0.611]\n"
     ]
    },
    {
     "name": "stdout",
     "output_type": "stream",
     "text": [
      "Epoch 5/30, Loss: 0.6105374882860881\n",
      "Validation Accuracy: 75.0778816199377%\n"
     ]
    },
    {
     "name": "stderr",
     "output_type": "stream",
     "text": [
      "Epoch 6/30: 100%|██████████████████████████████████████████████████████████| 41/41 [00:16<00:00,  2.52it/s, loss=0.595]\n"
     ]
    },
    {
     "name": "stdout",
     "output_type": "stream",
     "text": [
      "Epoch 6/30, Loss: 0.5945891207311211\n",
      "Validation Accuracy: 72.89719626168224%\n"
     ]
    },
    {
     "name": "stderr",
     "output_type": "stream",
     "text": [
      "Epoch 7/30: 100%|██████████████████████████████████████████████████████████| 41/41 [00:16<00:00,  2.50it/s, loss=0.574]\n"
     ]
    },
    {
     "name": "stdout",
     "output_type": "stream",
     "text": [
      "Epoch 7/30, Loss: 0.5742575497162051\n",
      "Validation Accuracy: 73.20872274143302%\n"
     ]
    },
    {
     "name": "stderr",
     "output_type": "stream",
     "text": [
      "Epoch 8/30: 100%|██████████████████████████████████████████████████████████| 41/41 [00:16<00:00,  2.51it/s, loss=0.572]\n"
     ]
    },
    {
     "name": "stdout",
     "output_type": "stream",
     "text": [
      "Epoch 8/30, Loss: 0.571542014436024\n",
      "Validation Accuracy: 74.76635514018692%\n"
     ]
    },
    {
     "name": "stderr",
     "output_type": "stream",
     "text": [
      "Epoch 9/30: 100%|███████████████████████████████████████████████████████████| 41/41 [00:16<00:00,  2.51it/s, loss=0.55]\n"
     ]
    },
    {
     "name": "stdout",
     "output_type": "stream",
     "text": [
      "Epoch 9/30, Loss: 0.5501999011853846\n",
      "Validation Accuracy: 75.38940809968847%\n"
     ]
    },
    {
     "name": "stderr",
     "output_type": "stream",
     "text": [
      "Epoch 10/30: 100%|█████████████████████████████████████████████████████████| 41/41 [00:16<00:00,  2.48it/s, loss=0.534]\n"
     ]
    },
    {
     "name": "stdout",
     "output_type": "stream",
     "text": [
      "Epoch 10/30, Loss: 0.5338234276306338\n",
      "Validation Accuracy: 75.0778816199377%\n"
     ]
    },
    {
     "name": "stderr",
     "output_type": "stream",
     "text": [
      "Epoch 11/30: 100%|█████████████████████████████████████████████████████████| 41/41 [00:16<00:00,  2.51it/s, loss=0.529]\n"
     ]
    },
    {
     "name": "stdout",
     "output_type": "stream",
     "text": [
      "Epoch 11/30, Loss: 0.528823279752964\n",
      "Validation Accuracy: 73.20872274143302%\n"
     ]
    },
    {
     "name": "stderr",
     "output_type": "stream",
     "text": [
      "Epoch 12/30: 100%|█████████████████████████████████████████████████████████| 41/41 [00:16<00:00,  2.52it/s, loss=0.513]\n"
     ]
    },
    {
     "name": "stdout",
     "output_type": "stream",
     "text": [
      "Epoch 12/30, Loss: 0.5129566745060247\n",
      "Validation Accuracy: 73.5202492211838%\n"
     ]
    },
    {
     "name": "stderr",
     "output_type": "stream",
     "text": [
      "Epoch 13/30: 100%|█████████████████████████████████████████████████████████| 41/41 [00:16<00:00,  2.50it/s, loss=0.521]\n"
     ]
    },
    {
     "name": "stdout",
     "output_type": "stream",
     "text": [
      "Epoch 13/30, Loss: 0.5208307788139437\n",
      "Validation Accuracy: 75.70093457943925%\n"
     ]
    },
    {
     "name": "stderr",
     "output_type": "stream",
     "text": [
      "Epoch 14/30: 100%|█████████████████████████████████████████████████████████| 41/41 [00:16<00:00,  2.48it/s, loss=0.515]\n"
     ]
    },
    {
     "name": "stdout",
     "output_type": "stream",
     "text": [
      "Epoch 14/30, Loss: 0.5147269927873844\n",
      "Validation Accuracy: 75.0778816199377%\n"
     ]
    },
    {
     "name": "stderr",
     "output_type": "stream",
     "text": [
      "Epoch 15/30: 100%|█████████████████████████████████████████████████████████| 41/41 [00:16<00:00,  2.52it/s, loss=0.509]\n"
     ]
    },
    {
     "name": "stdout",
     "output_type": "stream",
     "text": [
      "Epoch 15/30, Loss: 0.5093152544847349\n",
      "Validation Accuracy: 73.20872274143302%\n"
     ]
    },
    {
     "name": "stderr",
     "output_type": "stream",
     "text": [
      "Epoch 16/30: 100%|██████████████████████████████████████████████████████████| 41/41 [00:16<00:00,  2.53it/s, loss=0.51]\n"
     ]
    },
    {
     "name": "stdout",
     "output_type": "stream",
     "text": [
      "Epoch 16/30, Loss: 0.5100624888408475\n",
      "Validation Accuracy: 75.38940809968847%\n"
     ]
    },
    {
     "name": "stderr",
     "output_type": "stream",
     "text": [
      "Epoch 17/30: 100%|█████████████████████████████████████████████████████████| 41/41 [00:16<00:00,  2.52it/s, loss=0.504]\n"
     ]
    },
    {
     "name": "stdout",
     "output_type": "stream",
     "text": [
      "Epoch 17/30, Loss: 0.5041937181135503\n",
      "Validation Accuracy: 75.38940809968847%\n"
     ]
    },
    {
     "name": "stderr",
     "output_type": "stream",
     "text": [
      "Epoch 18/30: 100%|███████████████████████████████████████████████████████████| 41/41 [00:16<00:00,  2.52it/s, loss=0.5]\n"
     ]
    },
    {
     "name": "stdout",
     "output_type": "stream",
     "text": [
      "Epoch 18/30, Loss: 0.5003258048034296\n",
      "Validation Accuracy: 73.5202492211838%\n",
      "Early stopping 적용\n"
     ]
    },
    {
     "data": {
      "image/png": "[encoded data removed]",
      "text/plain": [
       "<Figure size 800x600 with 2 Axes>"
      ]
     },
     "metadata": {},
     "output_type": "display_data"
    }
   ],
   "source": [
    "import os\n",
    "import torch\n",
    "import torchvision.models as models\n",
    "import torchvision.transforms as T\n",
    "from torch.utils.data import Dataset, DataLoader, WeightedRandomSampler\n",
    "from PIL import Image\n",
    "from tqdm import tqdm  # TQDM import\n",
    "import torch.nn as nn\n",
    "from collections import Counter\n",
    "from sklearn.metrics import confusion_matrix  # 혼동 행렬을 위한 import\n",
    "import numpy as np\n",
    "import seaborn as sns\n",
    "import matplotlib.pyplot as plt\n",
    "\n",
    "# Custom dataset\n",
    "class CustomDataset(Dataset):\n",
    "    def __init__(self, root_dir, transform=None):\n",
    "        self.root_dir = root_dir\n",
    "        self.transform = transform\n",
    "        self.classes = os.listdir(root_dir)\n",
    "        self.data = []\n",
    "        \n",
    "        for label in range(len(self.classes)):\n",
    "            class_folder = os.path.join(root_dir, self.classes[label])\n",
    "            for filename in os.listdir(class_folder):\n",
    "                img_path = os.path.join(class_folder, filename)\n",
    "                self.data.append((img_path, label))\n",
    "\n",
    "    def __len__(self):\n",
    "        return len(self.data)\n",
    "\n",
    "    def __getitem__(self, idx):\n",
    "        img_path, label = self.data[idx]\n",
    "        image = Image.open(img_path).convert('RGB')  # 이미지 RGB로 변환\n",
    "        if self.transform:\n",
    "            image = self.transform(image)\n",
    "        return image, label\n",
    "\n",
    "# 경로 및 배치 크기 설정\n",
    "data_dir = \".\"\n",
    "batch_size = 64\n",
    "\n",
    "# 데이터 증강 포함한 이미지 전처리\n",
    "transform = T.Compose([\n",
    "    T.Resize((224, 224)),\n",
    "    T.RandomHorizontalFlip(),\n",
    "    T.RandomRotation(15),  # 더 큰 회전 각도\n",
    "    T.RandomAffine(degrees=0, translate=(0.1, 0.1)),  # 이미지 이동\n",
    "    T.GaussianBlur(kernel_size=3),  # Gaussian Blur 추가\n",
    "    T.ToTensor(),\n",
    "    T.Normalize(mean=[0.485, 0.456, 0.406], std=[0.229, 0.224, 0.225])\n",
    "])\n",
    "\n",
    "# 학습 및 검증 데이터셋 생성\n",
    "train_dataset = CustomDataset(os.path.join(data_dir, 'train'), transform=transform)\n",
    "valid_dataset = CustomDataset(os.path.join(data_dir, 'valid'), transform=transform)\n",
    "\n",
    "# 각 클래스의 데이터 개수 계산 (Counter 사용)\n",
    "class_counts = Counter([label for _, label in train_dataset])\n",
    "\n",
    "# 클래스별로 가중치를 부여 (데이터 개수의 역수 사용)\n",
    "class_weights = {cls: 1.0 / count for cls, count in class_counts.items()}\n",
    "\n",
    "# 각 샘플의 가중치를 리스트로 변환\n",
    "sample_weights = [class_weights[label] for _, label in train_dataset]\n",
    "\n",
    "# WeightedRandomSampler 생성\n",
    "sampler = WeightedRandomSampler(weights=sample_weights, num_samples=len(sample_weights))\n",
    "\n",
    "# WeightedRandomSampler를 적용한 DataLoader\n",
    "train_loader = DataLoader(train_dataset, batch_size=batch_size, sampler=sampler)\n",
    "valid_loader = DataLoader(valid_dataset, batch_size=batch_size, shuffle=False)\n",
    "\n",
    "# 사전 학습된 MobileNetV2 모델 사용\n",
    "from torchvision.models import MobileNet_V2_Weights\n",
    "\n",
    "weights = MobileNet_V2_Weights.DEFAULT\n",
    "model = models.mobilenet_v2(weights=weights)\n",
    "\n",
    "# 모든 레이어 학습 가능하도록 설정 (전이 학습 제외)\n",
    "for param in model.parameters():\n",
    "    param.requires_grad = True\n",
    "\n",
    "# 출력 레이어를 분류하려는 클래스 수에 맞게 수정 (드롭아웃 비율 0.5로 설정)\n",
    "model.classifier = nn.Sequential(\n",
    "    nn.Dropout(0.5),  # Dropout 비율을 0.5로 증가\n",
    "    nn.Linear(model.classifier[1].in_features, len(train_dataset.classes))\n",
    ")\n",
    "\n",
    "device = torch.device(\"cuda\" if torch.cuda.is_available() else \"cpu\")\n",
    "model.to(device)\n",
    "\n",
    "# Early Stopping 설정\n",
    "best_accuracy = 0\n",
    "best_cm = None  # 베스트 모델일 때 혼동 행렬 저장\n",
    "patience = 5  # 개선되지 않는 에포크를 허용하는 최대 수\n",
    "counter = 0\n",
    "\n",
    "# 손실 함수 및 AdamW 옵티마이저 설정 (학습률 0.00005로 감소, 가중치 감쇠 0.1로 증가)\n",
    "criterion = torch.nn.CrossEntropyLoss()\n",
    "optimizer = torch.optim.AdamW(model.parameters(), lr=0.00001, weight_decay=0.1)\n",
    "\n",
    "# 학습률 스케줄러 추가 (학습률 점진적 감소, gamma=0.5, step_size=10)\n",
    "scheduler = torch.optim.lr_scheduler.StepLR(optimizer, step_size=10, gamma=0.5)\n",
    "\n",
    "# 학습 과정 (TQDM으로 진행 상황 시각화, 에포크 30)\n",
    "num_epochs = 30\n",
    "for epoch in range(num_epochs):\n",
    "    model.train()\n",
    "    running_loss = 0.0\n",
    "\n",
    "    # TQDM으로 학습 진행 표시\n",
    "    train_loader_iter = tqdm(train_loader, desc=f\"Epoch {epoch+1}/{num_epochs}\")\n",
    "    \n",
    "    for images, labels in train_loader_iter:\n",
    "        images, labels = images.to(device), labels.to(device)\n",
    "        optimizer.zero_grad()\n",
    "        outputs = model(images)\n",
    "        loss = criterion(outputs, labels)\n",
    "        loss.backward()\n",
    "        optimizer.step()\n",
    "        \n",
    "        running_loss += loss.item()\n",
    "        train_loader_iter.set_postfix(loss=running_loss / len(train_loader))\n",
    "    \n",
    "    print(f\"Epoch {epoch+1}/{num_epochs}, Loss: {running_loss/len(train_loader)}\")\n",
    "    \n",
    "    # 학습률 스케줄러 업데이트\n",
    "    scheduler.step()\n",
    "\n",
    "    # 검증 평가\n",
    "    model.eval()\n",
    "    correct = 0\n",
    "    total = 0\n",
    "    all_labels = []\n",
    "    all_preds = []\n",
    "    with torch.no_grad():\n",
    "        for images, labels in valid_loader:\n",
    "            images, labels = images.to(device), labels.to(device)\n",
    "            outputs = model(images)\n",
    "            _, predicted = torch.max(outputs, 1)\n",
    "            total += labels.size(0)\n",
    "            correct += (predicted == labels).sum().item()\n",
    "            \n",
    "            all_labels.extend(labels.cpu().numpy())  # 실제 라벨 저장\n",
    "            all_preds.extend(predicted.cpu().numpy())  # 예측 라벨 저장\n",
    "\n",
    "    accuracy = 100 * correct / total\n",
    "    print(f'Validation Accuracy: {accuracy}%')\n",
    "\n",
    "    # Early Stopping 기준\n",
    "    if accuracy > best_accuracy:\n",
    "        best_accuracy = accuracy\n",
    "        counter = 0  # 성능 개선 시 카운터 초기화\n",
    "        torch.save(model.state_dict(), 'best_model.pth')  # 최적의 모델 저장\n",
    "\n",
    "        # 베스트 모델일 때 혼동 행렬 계산 및 저장\n",
    "        best_cm = confusion_matrix(all_labels, all_preds)\n",
    "\n",
    "    else:\n",
    "        counter += 1\n",
    "        if counter >= patience:\n",
    "            print(\"Early stopping 적용\")\n",
    "            break\n",
    "\n",
    "# 베스트 모델의 혼동 행렬 시각화\n",
    "if best_cm is not None:\n",
    "    plt.figure(figsize=(8, 6))\n",
    "    sns.heatmap(best_cm, annot=True, fmt='d', cmap='Blues', xticklabels=train_dataset.classes, yticklabels=train_dataset.classes)\n",
    "    plt.xlabel('Predicted')\n",
    "    plt.ylabel('True')\n",
    "    plt.title(f'Best Model Confusion Matrix')\n",
    "    plt.show()\n"
   ]
  },
  {
   "cell_type": "code",
   "execution_count": 3,
   "id": "56ecfa34",
   "metadata": {},
   "outputs": [
    {
     "name": "stderr",
     "output_type": "stream",
     "text": [
      "Epoch 1/30: 100%|██████████████████████████████████████████████████████████| 81/81 [00:16<00:00,  4.78it/s, loss=0.696]\n"
     ]
    },
    {
     "name": "stdout",
     "output_type": "stream",
     "text": [
      "Epoch 1/30, Loss: 0.6961045640486258\n",
      "Validation Accuracy: 55.45171339563863%\n"
     ]
    },
    {
     "name": "stderr",
     "output_type": "stream",
     "text": [
      "Epoch 2/30: 100%|██████████████████████████████████████████████████████████| 81/81 [00:16<00:00,  4.81it/s, loss=0.667]\n"
     ]
    },
    {
     "name": "stdout",
     "output_type": "stream",
     "text": [
      "Epoch 2/30, Loss: 0.6669157434392858\n",
      "Validation Accuracy: 67.601246105919%\n"
     ]
    },
    {
     "name": "stderr",
     "output_type": "stream",
     "text": [
      "Epoch 3/30: 100%|██████████████████████████████████████████████████████████| 81/81 [00:16<00:00,  4.82it/s, loss=0.636]\n"
     ]
    },
    {
     "name": "stdout",
     "output_type": "stream",
     "text": [
      "Epoch 3/30, Loss: 0.635523428151637\n",
      "Validation Accuracy: 71.65109034267913%\n"
     ]
    },
    {
     "name": "stderr",
     "output_type": "stream",
     "text": [
      "Epoch 4/30: 100%|██████████████████████████████████████████████████████████| 81/81 [00:16<00:00,  4.90it/s, loss=0.616]\n"
     ]
    },
    {
     "name": "stdout",
     "output_type": "stream",
     "text": [
      "Epoch 4/30, Loss: 0.6156240385255696\n",
      "Validation Accuracy: 72.58566978193146%\n"
     ]
    },
    {
     "name": "stderr",
     "output_type": "stream",
     "text": [
      "Epoch 5/30: 100%|██████████████████████████████████████████████████████████| 81/81 [00:16<00:00,  4.93it/s, loss=0.583]\n"
     ]
    },
    {
     "name": "stdout",
     "output_type": "stream",
     "text": [
      "Epoch 5/30, Loss: 0.5830135054794359\n",
      "Validation Accuracy: 72.27414330218069%\n"
     ]
    },
    {
     "name": "stderr",
     "output_type": "stream",
     "text": [
      "Epoch 6/30: 100%|██████████████████████████████████████████████████████████| 81/81 [00:16<00:00,  5.01it/s, loss=0.545]\n"
     ]
    },
    {
     "name": "stdout",
     "output_type": "stream",
     "text": [
      "Epoch 6/30, Loss: 0.5450609079849573\n",
      "Validation Accuracy: 75.38940809968847%\n"
     ]
    },
    {
     "name": "stderr",
     "output_type": "stream",
     "text": [
      "Epoch 7/30: 100%|███████████████████████████████████████████████████████████| 81/81 [00:16<00:00,  4.84it/s, loss=0.54]\n"
     ]
    },
    {
     "name": "stdout",
     "output_type": "stream",
     "text": [
      "Epoch 7/30, Loss: 0.5395934982800189\n",
      "Validation Accuracy: 76.94704049844236%\n"
     ]
    },
    {
     "name": "stderr",
     "output_type": "stream",
     "text": [
      "Epoch 8/30: 100%|██████████████████████████████████████████████████████████| 81/81 [00:16<00:00,  4.94it/s, loss=0.509]\n"
     ]
    },
    {
     "name": "stdout",
     "output_type": "stream",
     "text": [
      "Epoch 8/30, Loss: 0.5092394366676425\n",
      "Validation Accuracy: 72.27414330218069%\n"
     ]
    },
    {
     "name": "stderr",
     "output_type": "stream",
     "text": [
      "Epoch 9/30: 100%|██████████████████████████████████████████████████████████| 81/81 [00:16<00:00,  4.93it/s, loss=0.513]\n"
     ]
    },
    {
     "name": "stdout",
     "output_type": "stream",
     "text": [
      "Epoch 9/30, Loss: 0.5129077265292038\n",
      "Validation Accuracy: 74.14330218068535%\n"
     ]
    },
    {
     "name": "stderr",
     "output_type": "stream",
     "text": [
      "Epoch 10/30: 100%|█████████████████████████████████████████████████████████| 81/81 [00:16<00:00,  4.90it/s, loss=0.503]\n"
     ]
    },
    {
     "name": "stdout",
     "output_type": "stream",
     "text": [
      "Epoch 10/30, Loss: 0.5031949668018906\n",
      "Validation Accuracy: 74.76635514018692%\n"
     ]
    },
    {
     "name": "stderr",
     "output_type": "stream",
     "text": [
      "Epoch 11/30: 100%|█████████████████████████████████████████████████████████| 81/81 [00:16<00:00,  4.93it/s, loss=0.496]\n"
     ]
    },
    {
     "name": "stdout",
     "output_type": "stream",
     "text": [
      "Epoch 11/30, Loss: 0.49638335977071596\n",
      "Validation Accuracy: 75.70093457943925%\n"
     ]
    },
    {
     "name": "stderr",
     "output_type": "stream",
     "text": [
      "Epoch 12/30: 100%|██████████████████████████████████████████████████████████| 81/81 [00:16<00:00,  5.06it/s, loss=0.49]\n"
     ]
    },
    {
     "name": "stdout",
     "output_type": "stream",
     "text": [
      "Epoch 12/30, Loss: 0.4904880244054912\n",
      "Validation Accuracy: 76.01246105919003%\n",
      "Early stopping 적용\n"
     ]
    },
    {
     "data": {
      "image/png": "[encoded data removed]",
      "text/plain": [
       "<Figure size 800x600 with 2 Axes>"
      ]
     },
     "metadata": {},
     "output_type": "display_data"
    }
   ],
   "source": [
    "import os\n",
    "import torch\n",
    "import torchvision.models as models\n",
    "import torchvision.transforms as T\n",
    "from torch.utils.data import Dataset, DataLoader, WeightedRandomSampler\n",
    "from PIL import Image\n",
    "from tqdm import tqdm  # TQDM import\n",
    "import torch.nn as nn\n",
    "from collections import Counter\n",
    "from sklearn.metrics import confusion_matrix  # 혼동 행렬을 위한 import\n",
    "import numpy as np\n",
    "import seaborn as sns\n",
    "import matplotlib.pyplot as plt\n",
    "\n",
    "# Custom dataset\n",
    "class CustomDataset(Dataset):\n",
    "    def __init__(self, root_dir, transform=None):\n",
    "        self.root_dir = root_dir\n",
    "        self.transform = transform\n",
    "        self.classes = os.listdir(root_dir)\n",
    "        self.data = []\n",
    "        \n",
    "        for label in range(len(self.classes)):\n",
    "            class_folder = os.path.join(root_dir, self.classes[label])\n",
    "            for filename in os.listdir(class_folder):\n",
    "                img_path = os.path.join(class_folder, filename)\n",
    "                self.data.append((img_path, label))\n",
    "\n",
    "    def __len__(self):\n",
    "        return len(self.data)\n",
    "\n",
    "    def __getitem__(self, idx):\n",
    "        img_path, label = self.data[idx]\n",
    "        image = Image.open(img_path).convert('RGB')  # 이미지 RGB로 변환\n",
    "        if self.transform:\n",
    "            image = self.transform(image)\n",
    "        return image, label\n",
    "\n",
    "# 경로 및 배치 크기 설정\n",
    "data_dir = \".\"\n",
    "batch_size = 32\n",
    "\n",
    "# 데이터 증강 포함한 이미지 전처리\n",
    "transform = T.Compose([\n",
    "    T.Resize((224, 224)),\n",
    "    T.RandomHorizontalFlip(),\n",
    "    T.RandomRotation(15),  # 더 큰 회전 각도\n",
    "    T.RandomAffine(degrees=0, translate=(0.1, 0.1)),  # 이미지 이동\n",
    "    T.GaussianBlur(kernel_size=3),  # Gaussian Blur 추가\n",
    "    T.ToTensor(),\n",
    "    T.Normalize(mean=[0.485, 0.456, 0.406], std=[0.229, 0.224, 0.225])\n",
    "])\n",
    "\n",
    "# 학습 및 검증 데이터셋 생성\n",
    "train_dataset = CustomDataset(os.path.join(data_dir, 'train'), transform=transform)\n",
    "valid_dataset = CustomDataset(os.path.join(data_dir, 'valid'), transform=transform)\n",
    "\n",
    "# 각 클래스의 데이터 개수 계산 (Counter 사용)\n",
    "class_counts = Counter([label for _, label in train_dataset])\n",
    "\n",
    "# 클래스별로 가중치를 부여 (데이터 개수의 역수 사용)\n",
    "class_weights = {cls: 1.0 / count for cls, count in class_counts.items()}\n",
    "\n",
    "# 각 샘플의 가중치를 리스트로 변환\n",
    "sample_weights = [class_weights[label] for _, label in train_dataset]\n",
    "\n",
    "# WeightedRandomSampler 생성\n",
    "sampler = WeightedRandomSampler(weights=sample_weights, num_samples=len(sample_weights))\n",
    "\n",
    "# WeightedRandomSampler를 적용한 DataLoader\n",
    "train_loader = DataLoader(train_dataset, batch_size=batch_size, sampler=sampler)\n",
    "valid_loader = DataLoader(valid_dataset, batch_size=batch_size, shuffle=False)\n",
    "\n",
    "# 사전 학습된 MobileNetV2 모델 사용\n",
    "from torchvision.models import MobileNet_V2_Weights\n",
    "\n",
    "weights = MobileNet_V2_Weights.DEFAULT\n",
    "model = models.mobilenet_v2(weights=weights)\n",
    "\n",
    "# 모든 레이어 학습 가능하도록 설정 (전이 학습 제외)\n",
    "for param in model.parameters():\n",
    "    param.requires_grad = True\n",
    "\n",
    "# 출력 레이어를 분류하려는 클래스 수에 맞게 수정 (드롭아웃 비율 0.5로 설정)\n",
    "model.classifier = nn.Sequential(\n",
    "    nn.Dropout(0.5),  # Dropout 비율을 0.5로 증가\n",
    "    nn.Linear(model.classifier[1].in_features, len(train_dataset.classes))\n",
    ")\n",
    "\n",
    "device = torch.device(\"cuda\" if torch.cuda.is_available() else \"cpu\")\n",
    "model.to(device)\n",
    "\n",
    "# Early Stopping 설정\n",
    "best_accuracy = 0\n",
    "best_cm = None  # 베스트 모델일 때 혼동 행렬 저장\n",
    "patience = 5  # 개선되지 않는 에포크를 허용하는 최대 수\n",
    "counter = 0\n",
    "\n",
    "# 손실 함수 및 AdamW 옵티마이저 설정 (학습률 0.00005로 감소, 가중치 감쇠 0.1로 증가)\n",
    "criterion = torch.nn.CrossEntropyLoss()\n",
    "optimizer = torch.optim.AdamW(model.parameters(), lr=0.00001, weight_decay=0.1)\n",
    "\n",
    "# 학습률 스케줄러 추가 (학습률 점진적 감소, gamma=0.5, step_size=10)\n",
    "scheduler = torch.optim.lr_scheduler.StepLR(optimizer, step_size=10, gamma=0.5)\n",
    "\n",
    "# 학습 과정 (TQDM으로 진행 상황 시각화, 에포크 30)\n",
    "num_epochs = 30\n",
    "for epoch in range(num_epochs):\n",
    "    model.train()\n",
    "    running_loss = 0.0\n",
    "\n",
    "    # TQDM으로 학습 진행 표시\n",
    "    train_loader_iter = tqdm(train_loader, desc=f\"Epoch {epoch+1}/{num_epochs}\")\n",
    "    \n",
    "    for images, labels in train_loader_iter:\n",
    "        images, labels = images.to(device), labels.to(device)\n",
    "        optimizer.zero_grad()\n",
    "        outputs = model(images)\n",
    "        loss = criterion(outputs, labels)\n",
    "        loss.backward()\n",
    "        optimizer.step()\n",
    "        \n",
    "        running_loss += loss.item()\n",
    "        train_loader_iter.set_postfix(loss=running_loss / len(train_loader))\n",
    "    \n",
    "    print(f\"Epoch {epoch+1}/{num_epochs}, Loss: {running_loss/len(train_loader)}\")\n",
    "    \n",
    "    # 학습률 스케줄러 업데이트\n",
    "    scheduler.step()\n",
    "\n",
    "    # 검증 평가\n",
    "    model.eval()\n",
    "    correct = 0\n",
    "    total = 0\n",
    "    all_labels = []\n",
    "    all_preds = []\n",
    "    with torch.no_grad():\n",
    "        for images, labels in valid_loader:\n",
    "            images, labels = images.to(device), labels.to(device)\n",
    "            outputs = model(images)\n",
    "            _, predicted = torch.max(outputs, 1)\n",
    "            total += labels.size(0)\n",
    "            correct += (predicted == labels).sum().item()\n",
    "            \n",
    "            all_labels.extend(labels.cpu().numpy())  # 실제 라벨 저장\n",
    "            all_preds.extend(predicted.cpu().numpy())  # 예측 라벨 저장\n",
    "\n",
    "    accuracy = 100 * correct / total\n",
    "    print(f'Validation Accuracy: {accuracy}%')\n",
    "\n",
    "    # Early Stopping 기준\n",
    "    if accuracy > best_accuracy:\n",
    "        best_accuracy = accuracy\n",
    "        counter = 0  # 성능 개선 시 카운터 초기화\n",
    "        torch.save(model.state_dict(), 'best_model.pth')  # 최적의 모델 저장\n",
    "\n",
    "        # 베스트 모델일 때 혼동 행렬 계산 및 저장\n",
    "        best_cm = confusion_matrix(all_labels, all_preds)\n",
    "\n",
    "    else:\n",
    "        counter += 1\n",
    "        if counter >= patience:\n",
    "            print(\"Early stopping 적용\")\n",
    "            break\n",
    "\n",
    "# 베스트 모델의 혼동 행렬 시각화\n",
    "if best_cm is not None:\n",
    "    plt.figure(figsize=(8, 6))\n",
    "    sns.heatmap(best_cm, annot=True, fmt='d', cmap='Blues', xticklabels=train_dataset.classes, yticklabels=train_dataset.classes)\n",
    "    plt.xlabel('Predicted')\n",
    "    plt.ylabel('True')\n",
    "    plt.title(f'Best Model Confusion Matrix')\n",
    "    plt.show()\n"
   ]
  },
  {
   "cell_type": "code",
   "execution_count": 5,
   "id": "87101322",
   "metadata": {
    "scrolled": false
   },
   "outputs": [
    {
     "name": "stderr",
     "output_type": "stream",
     "text": [
      "Epoch 1/100: 100%|█████████████████████████████████████████████████████████| 41/41 [00:14<00:00,  2.78it/s, loss=0.608]\n"
     ]
    },
    {
     "name": "stdout",
     "output_type": "stream",
     "text": [
      "Epoch 1/100, Loss: 0.6082669394772228\n",
      "Validation Accuracy: 70.09345794392523%\n"
     ]
    },
    {
     "name": "stderr",
     "output_type": "stream",
     "text": [
      "Epoch 2/100: 100%|█████████████████████████████████████████████████████████| 41/41 [00:14<00:00,  2.88it/s, loss=0.513]\n"
     ]
    },
    {
     "name": "stdout",
     "output_type": "stream",
     "text": [
      "Epoch 2/100, Loss: 0.5125742176683937\n",
      "Validation Accuracy: 78.81619937694704%\n"
     ]
    },
    {
     "name": "stderr",
     "output_type": "stream",
     "text": [
      "Epoch 3/100: 100%|█████████████████████████████████████████████████████████| 41/41 [00:14<00:00,  2.85it/s, loss=0.507]\n"
     ]
    },
    {
     "name": "stdout",
     "output_type": "stream",
     "text": [
      "Epoch 3/100, Loss: 0.5068312054727135\n",
      "Validation Accuracy: 74.45482866043614%\n"
     ]
    },
    {
     "name": "stderr",
     "output_type": "stream",
     "text": [
      "Epoch 4/100: 100%|██████████████████████████████████████████████████████████| 41/41 [00:14<00:00,  2.86it/s, loss=0.49]\n"
     ]
    },
    {
     "name": "stdout",
     "output_type": "stream",
     "text": [
      "Epoch 4/100, Loss: 0.4902607871264946\n",
      "Validation Accuracy: 73.5202492211838%\n"
     ]
    },
    {
     "name": "stderr",
     "output_type": "stream",
     "text": [
      "Epoch 5/100: 100%|█████████████████████████████████████████████████████████| 41/41 [00:14<00:00,  2.87it/s, loss=0.484]\n"
     ]
    },
    {
     "name": "stdout",
     "output_type": "stream",
     "text": [
      "Epoch 5/100, Loss: 0.48410492045123404\n",
      "Validation Accuracy: 76.01246105919003%\n"
     ]
    },
    {
     "name": "stderr",
     "output_type": "stream",
     "text": [
      "Epoch 6/100: 100%|██████████████████████████████████████████████████████████| 41/41 [00:14<00:00,  2.88it/s, loss=0.46]\n"
     ]
    },
    {
     "name": "stdout",
     "output_type": "stream",
     "text": [
      "Epoch 6/100, Loss: 0.45997860518897454\n",
      "Validation Accuracy: 72.89719626168224%\n"
     ]
    },
    {
     "name": "stderr",
     "output_type": "stream",
     "text": [
      "Epoch 7/100: 100%|█████████████████████████████████████████████████████████| 41/41 [00:14<00:00,  2.87it/s, loss=0.452]\n"
     ]
    },
    {
     "name": "stdout",
     "output_type": "stream",
     "text": [
      "Epoch 7/100, Loss: 0.45178000665292506\n",
      "Validation Accuracy: 71.02803738317758%\n"
     ]
    },
    {
     "name": "stderr",
     "output_type": "stream",
     "text": [
      "Epoch 8/100: 100%|█████████████████████████████████████████████████████████| 41/41 [00:14<00:00,  2.86it/s, loss=0.471]\n"
     ]
    },
    {
     "name": "stdout",
     "output_type": "stream",
     "text": [
      "Epoch 8/100, Loss: 0.47060519674929174\n",
      "Validation Accuracy: 72.27414330218069%\n"
     ]
    },
    {
     "name": "stderr",
     "output_type": "stream",
     "text": [
      "Epoch 9/100: 100%|█████████████████████████████████████████████████████████| 41/41 [00:14<00:00,  2.86it/s, loss=0.456]\n"
     ]
    },
    {
     "name": "stdout",
     "output_type": "stream",
     "text": [
      "Epoch 9/100, Loss: 0.4562659772430978\n",
      "Validation Accuracy: 72.27414330218069%\n"
     ]
    },
    {
     "name": "stderr",
     "output_type": "stream",
     "text": [
      "Epoch 10/100: 100%|████████████████████████████████████████████████████████| 41/41 [00:14<00:00,  2.87it/s, loss=0.447]\n"
     ]
    },
    {
     "name": "stdout",
     "output_type": "stream",
     "text": [
      "Epoch 10/100, Loss: 0.44735469723620064\n",
      "Validation Accuracy: 72.58566978193146%\n"
     ]
    },
    {
     "name": "stderr",
     "output_type": "stream",
     "text": [
      "Epoch 11/100: 100%|████████████████████████████████████████████████████████| 41/41 [00:14<00:00,  2.92it/s, loss=0.425]\n"
     ]
    },
    {
     "name": "stdout",
     "output_type": "stream",
     "text": [
      "Epoch 11/100, Loss: 0.42531405425653224\n",
      "Validation Accuracy: 73.20872274143302%\n"
     ]
    },
    {
     "name": "stderr",
     "output_type": "stream",
     "text": [
      "Epoch 12/100: 100%|████████████████████████████████████████████████████████| 41/41 [00:14<00:00,  2.88it/s, loss=0.441]\n"
     ]
    },
    {
     "name": "stdout",
     "output_type": "stream",
     "text": [
      "Epoch 12/100, Loss: 0.4412250933123798\n",
      "Validation Accuracy: 72.58566978193146%\n"
     ]
    },
    {
     "name": "stderr",
     "output_type": "stream",
     "text": [
      "Epoch 13/100: 100%|████████████████████████████████████████████████████████| 41/41 [00:14<00:00,  2.87it/s, loss=0.413]\n"
     ]
    },
    {
     "name": "stdout",
     "output_type": "stream",
     "text": [
      "Epoch 13/100, Loss: 0.41317019811490685\n",
      "Validation Accuracy: 74.14330218068535%\n"
     ]
    },
    {
     "name": "stderr",
     "output_type": "stream",
     "text": [
      "Epoch 14/100: 100%|████████████████████████████████████████████████████████| 41/41 [00:14<00:00,  2.87it/s, loss=0.409]\n"
     ]
    },
    {
     "name": "stdout",
     "output_type": "stream",
     "text": [
      "Epoch 14/100, Loss: 0.4093048252710482\n",
      "Validation Accuracy: 76.01246105919003%\n"
     ]
    },
    {
     "name": "stderr",
     "output_type": "stream",
     "text": [
      "Epoch 15/100: 100%|████████████████████████████████████████████████████████| 41/41 [00:14<00:00,  2.85it/s, loss=0.437]\n"
     ]
    },
    {
     "name": "stdout",
     "output_type": "stream",
     "text": [
      "Epoch 15/100, Loss: 0.43729743942981814\n",
      "Validation Accuracy: 72.58566978193146%\n"
     ]
    },
    {
     "name": "stderr",
     "output_type": "stream",
     "text": [
      "Epoch 16/100: 100%|█████████████████████████████████████████████████████████| 41/41 [00:14<00:00,  2.84it/s, loss=0.42]\n"
     ]
    },
    {
     "name": "stdout",
     "output_type": "stream",
     "text": [
      "Epoch 16/100, Loss: 0.4201855019825261\n",
      "Validation Accuracy: 78.19314641744548%\n"
     ]
    },
    {
     "name": "stderr",
     "output_type": "stream",
     "text": [
      "Epoch 17/100: 100%|████████████████████████████████████████████████████████| 41/41 [00:14<00:00,  2.86it/s, loss=0.419]\n"
     ]
    },
    {
     "name": "stdout",
     "output_type": "stream",
     "text": [
      "Epoch 17/100, Loss: 0.4187123779116607\n",
      "Validation Accuracy: 75.70093457943925%\n"
     ]
    },
    {
     "name": "stderr",
     "output_type": "stream",
     "text": [
      "Epoch 18/100: 100%|████████████████████████████████████████████████████████| 41/41 [00:14<00:00,  2.89it/s, loss=0.417]\n"
     ]
    },
    {
     "name": "stdout",
     "output_type": "stream",
     "text": [
      "Epoch 18/100, Loss: 0.4165590529034777\n",
      "Validation Accuracy: 74.45482866043614%\n"
     ]
    },
    {
     "name": "stderr",
     "output_type": "stream",
     "text": [
      "Epoch 19/100: 100%|████████████████████████████████████████████████████████| 41/41 [00:14<00:00,  2.87it/s, loss=0.407]\n"
     ]
    },
    {
     "name": "stdout",
     "output_type": "stream",
     "text": [
      "Epoch 19/100, Loss: 0.4068058209448326\n",
      "Validation Accuracy: 76.01246105919003%\n"
     ]
    },
    {
     "name": "stderr",
     "output_type": "stream",
     "text": [
      "Epoch 20/100: 100%|████████████████████████████████████████████████████████| 41/41 [00:14<00:00,  2.88it/s, loss=0.396]\n"
     ]
    },
    {
     "name": "stdout",
     "output_type": "stream",
     "text": [
      "Epoch 20/100, Loss: 0.3959005518657405\n",
      "Validation Accuracy: 76.32398753894081%\n"
     ]
    },
    {
     "name": "stderr",
     "output_type": "stream",
     "text": [
      "Epoch 21/100: 100%|████████████████████████████████████████████████████████| 41/41 [00:14<00:00,  2.86it/s, loss=0.388]\n"
     ]
    },
    {
     "name": "stdout",
     "output_type": "stream",
     "text": [
      "Epoch 21/100, Loss: 0.388338739552149\n",
      "Validation Accuracy: 77.25856697819314%\n"
     ]
    },
    {
     "name": "stderr",
     "output_type": "stream",
     "text": [
      "Epoch 22/100: 100%|████████████████████████████████████████████████████████| 41/41 [00:14<00:00,  2.87it/s, loss=0.401]\n"
     ]
    },
    {
     "name": "stdout",
     "output_type": "stream",
     "text": [
      "Epoch 22/100, Loss: 0.40078178556953986\n",
      "Validation Accuracy: 77.25856697819314%\n"
     ]
    },
    {
     "name": "stderr",
     "output_type": "stream",
     "text": [
      "Epoch 23/100: 100%|████████████████████████████████████████████████████████| 41/41 [00:14<00:00,  2.88it/s, loss=0.401]\n"
     ]
    },
    {
     "name": "stdout",
     "output_type": "stream",
     "text": [
      "Epoch 23/100, Loss: 0.40052787269034035\n",
      "Validation Accuracy: 74.76635514018692%\n"
     ]
    },
    {
     "name": "stderr",
     "output_type": "stream",
     "text": [
      "Epoch 24/100: 100%|████████████████████████████████████████████████████████| 41/41 [00:14<00:00,  2.76it/s, loss=0.408]\n"
     ]
    },
    {
     "name": "stdout",
     "output_type": "stream",
     "text": [
      "Epoch 24/100, Loss: 0.40829539517077\n",
      "Validation Accuracy: 76.32398753894081%\n"
     ]
    },
    {
     "name": "stderr",
     "output_type": "stream",
     "text": [
      "Epoch 25/100: 100%|████████████████████████████████████████████████████████| 41/41 [00:14<00:00,  2.90it/s, loss=0.409]\n"
     ]
    },
    {
     "name": "stdout",
     "output_type": "stream",
     "text": [
      "Epoch 25/100, Loss: 0.40918567122482674\n",
      "Validation Accuracy: 76.94704049844236%\n"
     ]
    },
    {
     "name": "stderr",
     "output_type": "stream",
     "text": [
      "Epoch 26/100: 100%|████████████████████████████████████████████████████████| 41/41 [00:14<00:00,  2.88it/s, loss=0.397]\n"
     ]
    },
    {
     "name": "stdout",
     "output_type": "stream",
     "text": [
      "Epoch 26/100, Loss: 0.39659166299715276\n",
      "Validation Accuracy: 77.57009345794393%\n"
     ]
    },
    {
     "name": "stderr",
     "output_type": "stream",
     "text": [
      "Epoch 27/100: 100%|████████████████████████████████████████████████████████| 41/41 [00:14<00:00,  2.90it/s, loss=0.383]\n"
     ]
    },
    {
     "name": "stdout",
     "output_type": "stream",
     "text": [
      "Epoch 27/100, Loss: 0.38341404497623444\n",
      "Validation Accuracy: 77.88161993769471%\n"
     ]
    },
    {
     "name": "stderr",
     "output_type": "stream",
     "text": [
      "Epoch 28/100: 100%|████████████████████████████████████████████████████████| 41/41 [00:14<00:00,  2.89it/s, loss=0.399]\n"
     ]
    },
    {
     "name": "stdout",
     "output_type": "stream",
     "text": [
      "Epoch 28/100, Loss: 0.3987601926413978\n",
      "Validation Accuracy: 75.70093457943925%\n"
     ]
    },
    {
     "name": "stderr",
     "output_type": "stream",
     "text": [
      "Epoch 29/100: 100%|████████████████████████████████████████████████████████| 41/41 [00:14<00:00,  2.86it/s, loss=0.391]\n"
     ]
    },
    {
     "name": "stdout",
     "output_type": "stream",
     "text": [
      "Epoch 29/100, Loss: 0.3907756838129788\n",
      "Validation Accuracy: 76.94704049844236%\n"
     ]
    },
    {
     "name": "stderr",
     "output_type": "stream",
     "text": [
      "Epoch 30/100: 100%|████████████████████████████████████████████████████████| 41/41 [00:14<00:00,  2.86it/s, loss=0.375]\n"
     ]
    },
    {
     "name": "stdout",
     "output_type": "stream",
     "text": [
      "Epoch 30/100, Loss: 0.3746004046463385\n",
      "Validation Accuracy: 75.38940809968847%\n"
     ]
    },
    {
     "name": "stderr",
     "output_type": "stream",
     "text": [
      "Epoch 31/100: 100%|████████████████████████████████████████████████████████| 41/41 [00:14<00:00,  2.85it/s, loss=0.393]\n"
     ]
    },
    {
     "name": "stdout",
     "output_type": "stream",
     "text": [
      "Epoch 31/100, Loss: 0.3928671501031736\n",
      "Validation Accuracy: 76.6355140186916%\n"
     ]
    },
    {
     "name": "stderr",
     "output_type": "stream",
     "text": [
      "Epoch 32/100: 100%|████████████████████████████████████████████████████████| 41/41 [00:14<00:00,  2.81it/s, loss=0.388]\n"
     ]
    },
    {
     "name": "stdout",
     "output_type": "stream",
     "text": [
      "Epoch 32/100, Loss: 0.3879149258136749\n",
      "Validation Accuracy: 78.19314641744548%\n",
      "Early stopping 적용\n"
     ]
    },
    {
     "data": {
      "image/png": "[encoded data removed]",
      "text/plain": [
       "<Figure size 800x600 with 2 Axes>"
      ]
     },
     "metadata": {},
     "output_type": "display_data"
    }
   ],
   "source": [
    "import os\n",
    "import torch\n",
    "import torchvision.models as models\n",
    "import torchvision.transforms as T\n",
    "from torch.utils.data import Dataset, DataLoader, WeightedRandomSampler\n",
    "from PIL import Image\n",
    "from tqdm import tqdm  # TQDM import\n",
    "import torch.nn as nn\n",
    "from collections import Counter\n",
    "from sklearn.metrics import confusion_matrix  # 혼동 행렬을 위한 import\n",
    "import numpy as np\n",
    "import seaborn as sns\n",
    "import matplotlib.pyplot as plt\n",
    "\n",
    "# Custom dataset\n",
    "class CustomDataset(Dataset):\n",
    "    def __init__(self, root_dir, transform=None):\n",
    "        self.root_dir = root_dir\n",
    "        self.transform = transform\n",
    "        self.classes = os.listdir(root_dir)\n",
    "        self.data = []\n",
    "        \n",
    "        for label in range(len(self.classes)):\n",
    "            class_folder = os.path.join(root_dir, self.classes[label])\n",
    "            for filename in os.listdir(class_folder):\n",
    "                img_path = os.path.join(class_folder, filename)\n",
    "                self.data.append((img_path, label))\n",
    "\n",
    "    def __len__(self):\n",
    "        return len(self.data)\n",
    "\n",
    "    def __getitem__(self, idx):\n",
    "        img_path, label = self.data[idx]\n",
    "        image = Image.open(img_path).convert('RGB')  # 이미지 RGB로 변환\n",
    "        if self.transform:\n",
    "            image = self.transform(image)\n",
    "        return image, label\n",
    "\n",
    "# 경로 및 배치 크기 설정\n",
    "data_dir = \".\"\n",
    "batch_size = 64\n",
    "\n",
    "# 데이터 증강 포함한 이미지 전처리\n",
    "transform = T.Compose([\n",
    "    T.Resize((224, 224)),\n",
    "    T.RandomHorizontalFlip(),\n",
    "    T.RandomRotation(15),  # 더 큰 회전 각도\n",
    "    T.RandomAffine(degrees=0, translate=(0.1, 0.1)),  # 이미지 이동\n",
    "    T.GaussianBlur(kernel_size=3),  # Gaussian Blur 추가\n",
    "    T.ToTensor(),\n",
    "    T.Normalize(mean=[0.485, 0.456, 0.406], std=[0.229, 0.224, 0.225])\n",
    "])\n",
    "\n",
    "# 학습 및 검증 데이터셋 생성\n",
    "train_dataset = CustomDataset(os.path.join(data_dir, 'train'), transform=transform)\n",
    "valid_dataset = CustomDataset(os.path.join(data_dir, 'valid'), transform=transform)\n",
    "\n",
    "# 각 클래스의 데이터 개수 계산 (Counter 사용)\n",
    "class_counts = Counter([label for _, label in train_dataset])\n",
    "\n",
    "# 클래스별로 가중치를 부여 (데이터 개수의 역수 사용)\n",
    "class_weights = {cls: 1.0 / count for cls, count in class_counts.items()}\n",
    "\n",
    "# 각 샘플의 가중치를 리스트로 변환\n",
    "sample_weights = [class_weights[label] for _, label in train_dataset]\n",
    "\n",
    "# WeightedRandomSampler 생성\n",
    "sampler = WeightedRandomSampler(weights=sample_weights, num_samples=len(sample_weights))\n",
    "\n",
    "# WeightedRandomSampler를 적용한 DataLoader\n",
    "train_loader = DataLoader(train_dataset, batch_size=batch_size, sampler=sampler)\n",
    "valid_loader = DataLoader(valid_dataset, batch_size=batch_size, shuffle=False)\n",
    "\n",
    "# 사전 학습된 SqueezeNet 모델 사용\n",
    "from torchvision.models import SqueezeNet1_0_Weights\n",
    "\n",
    "weights = SqueezeNet1_0_Weights.DEFAULT\n",
    "model = models.squeezenet1_0(weights=weights)\n",
    "\n",
    "# 모든 레이어 학습 가능하도록 설정 (전이 학습 제외)\n",
    "for param in model.parameters():\n",
    "    param.requires_grad = True\n",
    "\n",
    "# 출력 레이어를 분류하려는 클래스 수에 맞게 수정 (드롭아웃 비율 0.5로 설정)\n",
    "model.classifier = nn.Sequential(\n",
    "    nn.Dropout(0.5),  # Dropout 비율을 0.5로 증가\n",
    "    nn.Conv2d(512, len(train_dataset.classes), kernel_size=(1, 1), stride=(1, 1)),\n",
    "    nn.AdaptiveAvgPool2d((1, 1))\n",
    ")\n",
    "\n",
    "device = torch.device(\"cuda\" if torch.cuda.is_available() else \"cpu\")\n",
    "model.to(device)\n",
    "\n",
    "# Early Stopping 설정\n",
    "best_accuracy = 0\n",
    "best_cm = None  # 베스트 모델일 때 혼동 행렬 저장\n",
    "patience = 30  # 개선되지 않는 에포크를 허용하는 최대 수\n",
    "counter = 0\n",
    "\n",
    "# 손실 함수 및 AdamW 옵티마이저 설정 (학습률 0.00005로 감소, 가중치 감쇠 0.1로 증가)\n",
    "criterion = torch.nn.CrossEntropyLoss()\n",
    "optimizer = torch.optim.AdamW(model.parameters(), lr=0.00005, weight_decay=0.1)\n",
    "\n",
    "# 학습률 스케줄러 추가 (학습률 점진적 감소, gamma=0.5, step_size=10)\n",
    "scheduler = torch.optim.lr_scheduler.StepLR(optimizer, step_size=10, gamma=0.5)\n",
    "\n",
    "# 학습 과정 (TQDM으로 진행 상황 시각화, 에포크 30)\n",
    "num_epochs = 100\n",
    "for epoch in range(num_epochs):\n",
    "    model.train()\n",
    "    running_loss = 0.0\n",
    "\n",
    "    # TQDM으로 학습 진행 표시\n",
    "    train_loader_iter = tqdm(train_loader, desc=f\"Epoch {epoch+1}/{num_epochs}\")\n",
    "    \n",
    "    for images, labels in train_loader_iter:\n",
    "        images, labels = images.to(device), labels.to(device)\n",
    "        optimizer.zero_grad()\n",
    "        outputs = model(images)\n",
    "        loss = criterion(outputs, labels)\n",
    "        loss.backward()\n",
    "        optimizer.step()\n",
    "        \n",
    "        running_loss += loss.item()\n",
    "        train_loader_iter.set_postfix(loss=running_loss / len(train_loader))\n",
    "    \n",
    "    print(f\"Epoch {epoch+1}/{num_epochs}, Loss: {running_loss/len(train_loader)}\")\n",
    "    \n",
    "    # 학습률 스케줄러 업데이트\n",
    "    scheduler.step()\n",
    "\n",
    "    # 검증 평가\n",
    "    model.eval()\n",
    "    correct = 0\n",
    "    total = 0\n",
    "    all_labels = []\n",
    "    all_preds = []\n",
    "    with torch.no_grad():\n",
    "        for images, labels in valid_loader:\n",
    "            images, labels = images.to(device), labels.to(device)\n",
    "            outputs = model(images)\n",
    "            _, predicted = torch.max(outputs, 1)\n",
    "            total += labels.size(0)\n",
    "            correct += (predicted == labels).sum().item()\n",
    "            \n",
    "            all_labels.extend(labels.cpu().numpy())  # 실제 라벨 저장\n",
    "            all_preds.extend(predicted.cpu().numpy())  # 예측 라벨 저장\n",
    "\n",
    "    accuracy = 100 * correct / total\n",
    "    print(f'Validation Accuracy: {accuracy}%')\n",
    "\n",
    "    # Early Stopping 기준\n",
    "    if accuracy > best_accuracy:\n",
    "        best_accuracy = accuracy\n",
    "        counter = 0  # 성능 개선 시 카운터 초기화\n",
    "        torch.save(model.state_dict(), 'best_model.pth')  # 최적의 모델 저장\n",
    "\n",
    "        # 베스트 모델일 때 혼동 행렬 계산 및 저장\n",
    "        best_cm = confusion_matrix(all_labels, all_preds)\n",
    "\n",
    "    else:\n",
    "        counter += 1\n",
    "        if counter >= patience:\n",
    "            print(\"Early stopping 적용\")\n",
    "            break\n",
    "\n",
    "# 베스트 모델의 혼동 행렬 시각화\n",
    "if best_cm is not None:\n",
    "    plt.figure(figsize=(8, 6))\n",
    "    sns.heatmap(best_cm, annot=True, fmt='d', cmap='Blues', xticklabels=train_dataset.classes, yticklabels=train_dataset.classes)\n",
    "    plt.xlabel('Predicted')\n",
    "    plt.ylabel('True')\n",
    "    plt.title(f'Best Model Confusion Matrix')\n",
    "    plt.show()\n"
   ]
  },
  {
   "cell_type": "code",
   "execution_count": null,
   "id": "40228614",
   "metadata": {},
   "outputs": [],
   "source": [
    "옵티마이저 - 소피아\n",
    "옵티마이저 - sharpeness aware minimization\n",
    "\n",
    "vision XAI - grad CAM"
   ]
  },
  {
   "cell_type": "code",
   "execution_count": null,
   "id": "8f5a0782",
   "metadata": {},
   "outputs": [],
   "source": []
  }
 ],
 "metadata": {
  "kernelspec": {
   "display_name": "Python 3 (ipykernel)",
   "language": "python",
   "name": "python3"
  },
  "language_info": {
   "codemirror_mode": {
    "name": "ipython",
    "version": 3
   },
   "file_extension": ".py",
   "mimetype": "text/x-python",
   "name": "python",
   "nbconvert_exporter": "python",
   "pygments_lexer": "ipython3",
   "version": "3.11.5"
  }
 },
 "nbformat": 4,
 "nbformat_minor": 5
}
