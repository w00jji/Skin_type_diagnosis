{
  "nbformat": 4,
  "nbformat_minor": 0,
  "metadata": {
    "colab": {
      "provenance": [],
      "gpuType": "T4"
    },
    "kernelspec": {
      "name": "python3",
      "display_name": "Python 3"
    },
    "language_info": {
      "name": "python"
    },
    "accelerator": "GPU"
  },
  "cells": [
    {
      "cell_type": "code",
      "execution_count": 1,
      "metadata": {
        "colab": {
          "base_uri": "https://localhost:8080/"
        },
        "id": "D9hqvZLca1mS",
        "outputId": "a6a1c7e3-4165-4a03-a62f-83525021a5e0"
      },
      "outputs": [
        {
          "output_type": "stream",
          "name": "stdout",
          "text": [
            "Drive already mounted at /content/drive; to attempt to forcibly remount, call drive.mount(\"/content/drive\", force_remount=True).\n"
          ]
        }
      ],
      "source": [
        "from google.colab import drive\n",
        "drive.mount('/content/drive')"
      ]
    },
    {
      "cell_type": "code",
      "source": [
        "import torch\n",
        "import torch.nn as nn\n",
        "import torch.optim as optim\n",
        "from torchvision import datasets, transforms, models\n",
        "import os\n",
        "from tqdm import tqdm  # tqdm 임포트\n",
        "from sklearn.metrics import confusion_matrix, classification_report\n",
        "import seaborn as sns\n",
        "import matplotlib.pyplot as plt\n",
        "import numpy as np\n",
        "\n",
        "# 데이터 전처리 (데이터 증강 추가)\n",
        "data_transforms = {\n",
        "    'train_left_볼 - 수정본-2': transforms.Compose([\n",
        "        transforms.Resize((224, 224)),\n",
        "        transforms.RandomHorizontalFlip(),  # 좌우 반전\n",
        "        transforms.RandomRotation(10),      # 랜덤 회전\n",
        "        transforms.ToTensor(),\n",
        "        transforms.Normalize([0.485, 0.456, 0.406], [0.229, 0.224, 0.225])\n",
        "    ]),\n",
        "    'train_right_볼 - 수정본-2': transforms.Compose([\n",
        "        transforms.Resize((224, 224)),\n",
        "        transforms.RandomHorizontalFlip(),\n",
        "        transforms.RandomRotation(10),\n",
        "        transforms.ToTensor(),\n",
        "        transforms.Normalize([0.485, 0.456, 0.406], [0.229, 0.224, 0.225])\n",
        "    ]),\n",
        "    'valid_left_볼 - 수정본-2': transforms.Compose([\n",
        "        transforms.Resize((224, 224)),\n",
        "        transforms.ToTensor(),\n",
        "        transforms.Normalize([0.485, 0.456, 0.406], [0.229, 0.224, 0.225])\n",
        "    ]),\n",
        "    'valid_right_볼 - 수정본-2': transforms.Compose([\n",
        "        transforms.Resize((224, 224)),\n",
        "        transforms.ToTensor(),\n",
        "        transforms.Normalize([0.485, 0.456, 0.406], [0.229, 0.224, 0.225])\n",
        "    ]),\n",
        "}\n",
        "\n",
        "data_dir = '/content/drive/MyDrive/'\n",
        "\n",
        "# 각각의 데이터를 불러오는 방법 설정\n",
        "image_datasets = {x: datasets.ImageFolder(os.path.join(data_dir, x), data_transforms[x])\n",
        "                  for x in ['train_left_볼 - 수정본-2', 'valid_left_볼 - 수정본-2', 'train_right_볼 - 수정본-2', 'valid_right_볼 - 수정본-2']}\n",
        "\n",
        "dataloaders = {x: torch.utils.data.DataLoader(image_datasets[x], batch_size=16, shuffle=True, num_workers=4)\n",
        "               for x in ['train_left_볼 - 수정본-2', 'valid_left_볼 - 수정본-2', 'train_right_볼 - 수정본-2', 'valid_right_볼 - 수정본-2']}\n",
        "\n",
        "dataset_sizes = {x: len(image_datasets[x]) for x in ['train_left_볼 - 수정본-2', 'valid_left_볼 - 수정본-2', 'train_right_볼 - 수정본-2', 'valid_right_볼 - 수정본-2']}\n",
        "class_names = image_datasets['train_left_볼 - 수정본-2'].classes\n",
        "\n",
        "# ResNeXt50 모델 불러오기 (사전 학습된 모델 사용)\n",
        "model = models.resnext50_32x4d(pretrained=True)\n",
        "\n",
        "# 마지막 레이어 수정 (이진 분류 작업을 위해 2개 클래스) + 드롭아웃 추가\n",
        "num_ftrs = model.fc.in_features\n",
        "model.fc = nn.Sequential(\n",
        "    nn.Dropout(0.5),  # 드롭아웃 추가 (50% 확률로 노드를 무작위로 제거)\n",
        "    nn.Linear(num_ftrs, 1)  # 이진 분류이므로 출력 차원을 1로 설정\n",
        ")\n",
        "\n",
        "# Xavier 초기화 함수 정의\n",
        "def init_weights(m):\n",
        "    if isinstance(m, nn.Linear):  # nn.Linear 레이어에만 Xavier 초기화 적용\n",
        "        torch.nn.init.xavier_uniform_(m.weight)\n",
        "        if m.bias is not None:\n",
        "            torch.nn.init.zeros_(m.bias)  # 편향은 0으로 초기화\n",
        "\n",
        "# Xavier 초기화를 모델에 적용\n",
        "model.apply(init_weights)\n",
        "\n",
        "# 모델을 GPU로 이동\n",
        "device = torch.device(\"cuda:0\" if torch.cuda.is_available() else \"cpu\")\n",
        "model = model.to(device)\n",
        "\n",
        "# 손실 함수와 최적화기 설정 (이진 분류를 위한 BCEWithLogitsLoss 사용)\n",
        "criterion = nn.BCEWithLogitsLoss()  # 이진 분류를 위한 손실 함수\n",
        "\n",
        "# AdamW 최적화기 사용\n",
        "optimizer = optim.AdamW(model.parameters(), lr=0.0001, weight_decay=1e-5)\n",
        "\n",
        "# 스케줄러 설정 (5 에폭마다 학습률을 0.1배로 감소)\n",
        "scheduler = optim.lr_scheduler.StepLR(optimizer, step_size=5, gamma=0.1)\n",
        "\n",
        "# 모델 학습 함수 (tqdm 추가)\n",
        "def train_model(model, criterion, optimizer, scheduler, num_epochs=10):\n",
        "    for epoch in range(num_epochs):\n",
        "        print(f'Epoch {epoch}/{num_epochs - 1}')\n",
        "        print('-' * 10)\n",
        "\n",
        "        for phase in ['train_left_볼 - 수정본-2', 'valid_left_볼 - 수정본-2', 'train_right_볼 - 수정본-2', 'valid_right_볼 - 수정본-2']:\n",
        "            if 'train' in phase:\n",
        "                model.train()  # 학습 모드\n",
        "            else:\n",
        "                model.eval()   # 평가 모드\n",
        "\n",
        "            running_loss = 0.0\n",
        "            running_corrects = 0\n",
        "\n",
        "            # tqdm을 사용하여 진행 상태 표시\n",
        "            for inputs, labels in tqdm(dataloaders[phase], desc=f'{phase} Phase Progress'):\n",
        "                inputs, labels = inputs.to(device), labels.to(device)\n",
        "\n",
        "                optimizer.zero_grad()\n",
        "\n",
        "                # 순방향\n",
        "                with torch.set_grad_enabled('train' in phase):\n",
        "                    outputs = model(inputs)\n",
        "                    outputs = outputs.view(-1)  # 이진 분류를 위해 출력 크기 조정\n",
        "                    preds = torch.round(torch.sigmoid(outputs))  # 시그모이드를 통해 확률로 변환 후 0 또는 1로 변환\n",
        "                    loss = criterion(outputs, labels.float())\n",
        "\n",
        "                    if 'train' in phase:\n",
        "                        loss.backward()\n",
        "                        optimizer.step()\n",
        "\n",
        "                running_loss += loss.item() * inputs.size(0)\n",
        "                running_corrects += torch.sum(preds == labels.data)\n",
        "\n",
        "            epoch_loss = running_loss / dataset_sizes[phase]\n",
        "            epoch_acc = running_corrects.double() / dataset_sizes[phase]\n",
        "\n",
        "            print(f'{phase} Loss: {epoch_loss:.4f} Acc: {epoch_acc:.4f}')\n",
        "\n",
        "        # 스케줄러 업데이트\n",
        "        scheduler.step()\n",
        "\n",
        "    return model\n",
        "\n",
        "# 모델 학습 실행\n",
        "model = train_model(model, criterion, optimizer, scheduler, num_epochs=10)\n",
        "\n",
        "# Confusion Matrix 출력 함수 추가\n",
        "def plot_confusion_matrix(model, dataloaders, class_names):\n",
        "    model.eval()  # 평가 모드\n",
        "    all_preds = []\n",
        "    all_labels = []\n",
        "\n",
        "    with torch.no_grad():\n",
        "        for inputs, labels in tqdm(dataloaders['valid_left_볼 - 수정본-2'], desc=\"Evaluating\"):\n",
        "            inputs, labels = inputs.to(device), labels.to(device)\n",
        "\n",
        "            # 모델 예측\n",
        "            outputs = model(inputs)\n",
        "            outputs = outputs.view(-1)\n",
        "            preds = torch.round(torch.sigmoid(outputs))\n",
        "\n",
        "            all_preds.extend(preds.cpu().numpy())\n",
        "            all_labels.extend(labels.cpu().numpy())\n",
        "            print(classification_report(all_labels, all_preds))\n",
        "\n",
        "    # Confusion Matrix 생성\n",
        "    cm = confusion_matrix(all_labels, all_preds)\n",
        "\n",
        "    # Confusion Matrix 시각화\n",
        "    plt.figure(figsize=(8, 6))\n",
        "    sns.heatmap(cm, annot=True, fmt='d', cmap='Blues', xticklabels=class_names, yticklabels=class_names)\n",
        "    plt.xlabel('Predicted Labels')\n",
        "    plt.ylabel('True Labels')\n",
        "    plt.title('Confusion Matrix')\n",
        "    plt.show()\n",
        "\n",
        "# Confusion Matrix 시각화\n",
        "plot_confusion_matrix(model, dataloaders, class_names)\n"
      ],
      "metadata": {
        "colab": {
          "base_uri": "https://localhost:8080/",
          "height": 1000
        },
        "id": "5HV6CxUycnx0",
        "outputId": "b5c6ec7e-6af3-4b6d-e8d4-b56d338a1ab3"
      },
      "execution_count": 2,
      "outputs": [
        {
          "output_type": "stream",
          "name": "stderr",
          "text": [
            "/usr/local/lib/python3.10/dist-packages/torch/utils/data/dataloader.py:557: UserWarning: This DataLoader will create 4 worker processes in total. Our suggested max number of worker in current system is 2, which is smaller than what this DataLoader is going to create. Please be aware that excessive worker creation might get DataLoader running slow or even freeze, lower the worker number to avoid potential slowness/freeze if necessary.\n",
            "  warnings.warn(_create_warning_msg(\n",
            "/usr/local/lib/python3.10/dist-packages/torchvision/models/_utils.py:208: UserWarning: The parameter 'pretrained' is deprecated since 0.13 and may be removed in the future, please use 'weights' instead.\n",
            "  warnings.warn(\n",
            "/usr/local/lib/python3.10/dist-packages/torchvision/models/_utils.py:223: UserWarning: Arguments other than a weight enum or `None` for 'weights' are deprecated since 0.13 and may be removed in the future. The current behavior is equivalent to passing `weights=ResNeXt50_32X4D_Weights.IMAGENET1K_V1`. You can also use `weights=ResNeXt50_32X4D_Weights.DEFAULT` to get the most up-to-date weights.\n",
            "  warnings.warn(msg)\n",
            "Downloading: \"https://download.pytorch.org/models/resnext50_32x4d-7cdf4587.pth\" to /root/.cache/torch/hub/checkpoints/resnext50_32x4d-7cdf4587.pth\n",
            "100%|██████████| 95.8M/95.8M [00:00<00:00, 189MB/s]\n"
          ]
        },
        {
          "output_type": "stream",
          "name": "stdout",
          "text": [
            "Epoch 0/9\n",
            "----------\n"
          ]
        },
        {
          "output_type": "stream",
          "name": "stderr",
          "text": [
            "train_left_볼 - 수정본-2 Phase Progress: 100%|██████████| 88/88 [03:11<00:00,  2.18s/it]\n"
          ]
        },
        {
          "output_type": "stream",
          "name": "stdout",
          "text": [
            "train_left_볼 - 수정본-2 Loss: 0.3276 Acc: 0.8654\n"
          ]
        },
        {
          "output_type": "stream",
          "name": "stderr",
          "text": [
            "valid_left_볼 - 수정본-2 Phase Progress: 100%|██████████| 14/14 [00:46<00:00,  3.34s/it]\n"
          ]
        },
        {
          "output_type": "stream",
          "name": "stdout",
          "text": [
            "valid_left_볼 - 수정본-2 Loss: 0.2409 Acc: 0.8848\n"
          ]
        },
        {
          "output_type": "stream",
          "name": "stderr",
          "text": [
            "train_right_볼 - 수정본-2 Phase Progress: 100%|██████████| 77/77 [04:00<00:00,  3.13s/it]\n"
          ]
        },
        {
          "output_type": "stream",
          "name": "stdout",
          "text": [
            "train_right_볼 - 수정본-2 Loss: 0.2196 Acc: 0.9176\n"
          ]
        },
        {
          "output_type": "stream",
          "name": "stderr",
          "text": [
            "valid_right_볼 - 수정본-2 Phase Progress: 100%|██████████| 16/16 [00:49<00:00,  3.07s/it]\n"
          ]
        },
        {
          "output_type": "stream",
          "name": "stdout",
          "text": [
            "valid_right_볼 - 수정본-2 Loss: 0.4272 Acc: 0.8760\n",
            "Epoch 1/9\n",
            "----------\n"
          ]
        },
        {
          "output_type": "stream",
          "name": "stderr",
          "text": [
            "train_left_볼 - 수정본-2 Phase Progress: 100%|██████████| 88/88 [00:21<00:00,  4.00it/s]\n"
          ]
        },
        {
          "output_type": "stream",
          "name": "stdout",
          "text": [
            "train_left_볼 - 수정본-2 Loss: 0.2030 Acc: 0.9259\n"
          ]
        },
        {
          "output_type": "stream",
          "name": "stderr",
          "text": [
            "valid_left_볼 - 수정본-2 Phase Progress: 100%|██████████| 14/14 [00:01<00:00,  7.70it/s]\n"
          ]
        },
        {
          "output_type": "stream",
          "name": "stdout",
          "text": [
            "valid_left_볼 - 수정본-2 Loss: 0.1419 Acc: 0.9401\n"
          ]
        },
        {
          "output_type": "stream",
          "name": "stderr",
          "text": [
            "train_right_볼 - 수정본-2 Phase Progress: 100%|██████████| 77/77 [00:20<00:00,  3.84it/s]\n"
          ]
        },
        {
          "output_type": "stream",
          "name": "stdout",
          "text": [
            "train_right_볼 - 수정본-2 Loss: 0.2201 Acc: 0.9152\n"
          ]
        },
        {
          "output_type": "stream",
          "name": "stderr",
          "text": [
            "valid_right_볼 - 수정본-2 Phase Progress: 100%|██████████| 16/16 [00:02<00:00,  5.38it/s]\n"
          ]
        },
        {
          "output_type": "stream",
          "name": "stdout",
          "text": [
            "valid_right_볼 - 수정본-2 Loss: 0.2677 Acc: 0.9132\n",
            "Epoch 2/9\n",
            "----------\n"
          ]
        },
        {
          "output_type": "stream",
          "name": "stderr",
          "text": [
            "train_left_볼 - 수정본-2 Phase Progress: 100%|██████████| 88/88 [00:23<00:00,  3.81it/s]\n"
          ]
        },
        {
          "output_type": "stream",
          "name": "stdout",
          "text": [
            "train_left_볼 - 수정본-2 Loss: 0.1976 Acc: 0.9281\n"
          ]
        },
        {
          "output_type": "stream",
          "name": "stderr",
          "text": [
            "valid_left_볼 - 수정본-2 Phase Progress: 100%|██████████| 14/14 [00:01<00:00,  7.70it/s]\n"
          ]
        },
        {
          "output_type": "stream",
          "name": "stdout",
          "text": [
            "valid_left_볼 - 수정본-2 Loss: 0.2431 Acc: 0.9078\n"
          ]
        },
        {
          "output_type": "stream",
          "name": "stderr",
          "text": [
            "train_right_볼 - 수정본-2 Phase Progress: 100%|██████████| 77/77 [00:19<00:00,  3.96it/s]\n"
          ]
        },
        {
          "output_type": "stream",
          "name": "stdout",
          "text": [
            "train_right_볼 - 수정본-2 Loss: 0.1589 Acc: 0.9372\n"
          ]
        },
        {
          "output_type": "stream",
          "name": "stderr",
          "text": [
            "valid_right_볼 - 수정본-2 Phase Progress: 100%|██████████| 16/16 [00:02<00:00,  7.90it/s]\n"
          ]
        },
        {
          "output_type": "stream",
          "name": "stdout",
          "text": [
            "valid_right_볼 - 수정본-2 Loss: 0.3663 Acc: 0.8678\n",
            "Epoch 3/9\n",
            "----------\n"
          ]
        },
        {
          "output_type": "stream",
          "name": "stderr",
          "text": [
            "train_left_볼 - 수정본-2 Phase Progress: 100%|██████████| 88/88 [00:22<00:00,  3.95it/s]\n"
          ]
        },
        {
          "output_type": "stream",
          "name": "stdout",
          "text": [
            "train_left_볼 - 수정본-2 Loss: 0.1760 Acc: 0.9309\n"
          ]
        },
        {
          "output_type": "stream",
          "name": "stderr",
          "text": [
            "valid_left_볼 - 수정본-2 Phase Progress: 100%|██████████| 14/14 [00:02<00:00,  4.92it/s]\n"
          ]
        },
        {
          "output_type": "stream",
          "name": "stdout",
          "text": [
            "valid_left_볼 - 수정본-2 Loss: 0.2994 Acc: 0.8756\n"
          ]
        },
        {
          "output_type": "stream",
          "name": "stderr",
          "text": [
            "train_right_볼 - 수정본-2 Phase Progress: 100%|██████████| 77/77 [00:19<00:00,  3.95it/s]\n"
          ]
        },
        {
          "output_type": "stream",
          "name": "stdout",
          "text": [
            "train_right_볼 - 수정본-2 Loss: 0.1266 Acc: 0.9560\n"
          ]
        },
        {
          "output_type": "stream",
          "name": "stderr",
          "text": [
            "valid_right_볼 - 수정본-2 Phase Progress: 100%|██████████| 16/16 [00:01<00:00,  8.25it/s]\n"
          ]
        },
        {
          "output_type": "stream",
          "name": "stdout",
          "text": [
            "valid_right_볼 - 수정본-2 Loss: 0.2256 Acc: 0.9215\n",
            "Epoch 4/9\n",
            "----------\n"
          ]
        },
        {
          "output_type": "stream",
          "name": "stderr",
          "text": [
            "train_left_볼 - 수정본-2 Phase Progress: 100%|██████████| 88/88 [00:22<00:00,  3.95it/s]\n"
          ]
        },
        {
          "output_type": "stream",
          "name": "stdout",
          "text": [
            "train_left_볼 - 수정본-2 Loss: 0.1619 Acc: 0.9395\n"
          ]
        },
        {
          "output_type": "stream",
          "name": "stderr",
          "text": [
            "valid_left_볼 - 수정본-2 Phase Progress: 100%|██████████| 14/14 [00:01<00:00,  7.71it/s]\n"
          ]
        },
        {
          "output_type": "stream",
          "name": "stdout",
          "text": [
            "valid_left_볼 - 수정본-2 Loss: 0.2200 Acc: 0.8940\n"
          ]
        },
        {
          "output_type": "stream",
          "name": "stderr",
          "text": [
            "train_right_볼 - 수정본-2 Phase Progress: 100%|██████████| 77/77 [00:19<00:00,  3.91it/s]\n"
          ]
        },
        {
          "output_type": "stream",
          "name": "stdout",
          "text": [
            "train_right_볼 - 수정본-2 Loss: 0.1296 Acc: 0.9494\n"
          ]
        },
        {
          "output_type": "stream",
          "name": "stderr",
          "text": [
            "valid_right_볼 - 수정본-2 Phase Progress: 100%|██████████| 16/16 [00:03<00:00,  5.25it/s]\n"
          ]
        },
        {
          "output_type": "stream",
          "name": "stdout",
          "text": [
            "valid_right_볼 - 수정본-2 Loss: 0.3141 Acc: 0.8967\n",
            "Epoch 5/9\n",
            "----------\n"
          ]
        },
        {
          "output_type": "stream",
          "name": "stderr",
          "text": [
            "train_left_볼 - 수정본-2 Phase Progress: 100%|██████████| 88/88 [00:22<00:00,  3.97it/s]\n"
          ]
        },
        {
          "output_type": "stream",
          "name": "stdout",
          "text": [
            "train_left_볼 - 수정본-2 Loss: 0.1272 Acc: 0.9566\n"
          ]
        },
        {
          "output_type": "stream",
          "name": "stderr",
          "text": [
            "valid_left_볼 - 수정본-2 Phase Progress: 100%|██████████| 14/14 [00:01<00:00,  7.68it/s]\n"
          ]
        },
        {
          "output_type": "stream",
          "name": "stdout",
          "text": [
            "valid_left_볼 - 수정본-2 Loss: 0.1509 Acc: 0.9355\n"
          ]
        },
        {
          "output_type": "stream",
          "name": "stderr",
          "text": [
            "train_right_볼 - 수정본-2 Phase Progress: 100%|██████████| 77/77 [00:19<00:00,  3.94it/s]\n"
          ]
        },
        {
          "output_type": "stream",
          "name": "stdout",
          "text": [
            "train_right_볼 - 수정본-2 Loss: 0.0890 Acc: 0.9600\n"
          ]
        },
        {
          "output_type": "stream",
          "name": "stderr",
          "text": [
            "valid_right_볼 - 수정본-2 Phase Progress: 100%|██████████| 16/16 [00:01<00:00,  8.02it/s]\n"
          ]
        },
        {
          "output_type": "stream",
          "name": "stdout",
          "text": [
            "valid_right_볼 - 수정본-2 Loss: 0.2878 Acc: 0.9091\n",
            "Epoch 6/9\n",
            "----------\n"
          ]
        },
        {
          "output_type": "stream",
          "name": "stderr",
          "text": [
            "train_left_볼 - 수정본-2 Phase Progress: 100%|██████████| 88/88 [00:23<00:00,  3.79it/s]\n"
          ]
        },
        {
          "output_type": "stream",
          "name": "stdout",
          "text": [
            "train_left_볼 - 수정본-2 Loss: 0.1081 Acc: 0.9615\n"
          ]
        },
        {
          "output_type": "stream",
          "name": "stderr",
          "text": [
            "valid_left_볼 - 수정본-2 Phase Progress: 100%|██████████| 14/14 [00:01<00:00,  7.42it/s]\n"
          ]
        },
        {
          "output_type": "stream",
          "name": "stdout",
          "text": [
            "valid_left_볼 - 수정본-2 Loss: 0.1711 Acc: 0.9309\n"
          ]
        },
        {
          "output_type": "stream",
          "name": "stderr",
          "text": [
            "train_right_볼 - 수정본-2 Phase Progress: 100%|██████████| 77/77 [00:19<00:00,  3.97it/s]\n"
          ]
        },
        {
          "output_type": "stream",
          "name": "stdout",
          "text": [
            "train_right_볼 - 수정본-2 Loss: 0.0818 Acc: 0.9682\n"
          ]
        },
        {
          "output_type": "stream",
          "name": "stderr",
          "text": [
            "valid_right_볼 - 수정본-2 Phase Progress: 100%|██████████| 16/16 [00:01<00:00,  8.08it/s]\n"
          ]
        },
        {
          "output_type": "stream",
          "name": "stdout",
          "text": [
            "valid_right_볼 - 수정본-2 Loss: 0.3658 Acc: 0.8884\n",
            "Epoch 7/9\n",
            "----------\n"
          ]
        },
        {
          "output_type": "stream",
          "name": "stderr",
          "text": [
            "train_left_볼 - 수정본-2 Phase Progress: 100%|██████████| 88/88 [00:22<00:00,  3.95it/s]\n"
          ]
        },
        {
          "output_type": "stream",
          "name": "stdout",
          "text": [
            "train_left_볼 - 수정본-2 Loss: 0.0921 Acc: 0.9694\n"
          ]
        },
        {
          "output_type": "stream",
          "name": "stderr",
          "text": [
            "valid_left_볼 - 수정본-2 Phase Progress: 100%|██████████| 14/14 [00:02<00:00,  4.91it/s]\n"
          ]
        },
        {
          "output_type": "stream",
          "name": "stdout",
          "text": [
            "valid_left_볼 - 수정본-2 Loss: 0.1887 Acc: 0.9171\n"
          ]
        },
        {
          "output_type": "stream",
          "name": "stderr",
          "text": [
            "train_right_볼 - 수정본-2 Phase Progress: 100%|██████████| 77/77 [00:20<00:00,  3.81it/s]\n"
          ]
        },
        {
          "output_type": "stream",
          "name": "stdout",
          "text": [
            "train_right_볼 - 수정본-2 Loss: 0.0677 Acc: 0.9739\n"
          ]
        },
        {
          "output_type": "stream",
          "name": "stderr",
          "text": [
            "valid_right_볼 - 수정본-2 Phase Progress: 100%|██████████| 16/16 [00:02<00:00,  7.69it/s]\n"
          ]
        },
        {
          "output_type": "stream",
          "name": "stdout",
          "text": [
            "valid_right_볼 - 수정본-2 Loss: 0.3241 Acc: 0.9050\n",
            "Epoch 8/9\n",
            "----------\n"
          ]
        },
        {
          "output_type": "stream",
          "name": "stderr",
          "text": [
            "train_left_볼 - 수정본-2 Phase Progress: 100%|██████████| 88/88 [00:22<00:00,  3.98it/s]\n"
          ]
        },
        {
          "output_type": "stream",
          "name": "stdout",
          "text": [
            "train_left_볼 - 수정본-2 Loss: 0.0666 Acc: 0.9744\n"
          ]
        },
        {
          "output_type": "stream",
          "name": "stderr",
          "text": [
            "valid_left_볼 - 수정본-2 Phase Progress: 100%|██████████| 14/14 [00:01<00:00,  8.00it/s]\n"
          ]
        },
        {
          "output_type": "stream",
          "name": "stdout",
          "text": [
            "valid_left_볼 - 수정본-2 Loss: 0.1522 Acc: 0.9401\n"
          ]
        },
        {
          "output_type": "stream",
          "name": "stderr",
          "text": [
            "train_right_볼 - 수정본-2 Phase Progress: 100%|██████████| 77/77 [00:19<00:00,  3.92it/s]\n"
          ]
        },
        {
          "output_type": "stream",
          "name": "stdout",
          "text": [
            "train_right_볼 - 수정본-2 Loss: 0.0537 Acc: 0.9788\n"
          ]
        },
        {
          "output_type": "stream",
          "name": "stderr",
          "text": [
            "valid_right_볼 - 수정본-2 Phase Progress: 100%|██████████| 16/16 [00:02<00:00,  5.56it/s]\n"
          ]
        },
        {
          "output_type": "stream",
          "name": "stdout",
          "text": [
            "valid_right_볼 - 수정본-2 Loss: 0.2727 Acc: 0.9050\n",
            "Epoch 9/9\n",
            "----------\n"
          ]
        },
        {
          "output_type": "stream",
          "name": "stderr",
          "text": [
            "train_left_볼 - 수정본-2 Phase Progress: 100%|██████████| 88/88 [00:23<00:00,  3.81it/s]\n"
          ]
        },
        {
          "output_type": "stream",
          "name": "stdout",
          "text": [
            "train_left_볼 - 수정본-2 Loss: 0.0521 Acc: 0.9801\n"
          ]
        },
        {
          "output_type": "stream",
          "name": "stderr",
          "text": [
            "valid_left_볼 - 수정본-2 Phase Progress: 100%|██████████| 14/14 [00:01<00:00,  7.75it/s]\n"
          ]
        },
        {
          "output_type": "stream",
          "name": "stdout",
          "text": [
            "valid_left_볼 - 수정본-2 Loss: 0.1949 Acc: 0.9171\n"
          ]
        },
        {
          "output_type": "stream",
          "name": "stderr",
          "text": [
            "train_right_볼 - 수정본-2 Phase Progress: 100%|██████████| 77/77 [00:19<00:00,  3.98it/s]\n"
          ]
        },
        {
          "output_type": "stream",
          "name": "stdout",
          "text": [
            "train_right_볼 - 수정본-2 Loss: 0.0543 Acc: 0.9780\n"
          ]
        },
        {
          "output_type": "stream",
          "name": "stderr",
          "text": [
            "valid_right_볼 - 수정본-2 Phase Progress: 100%|██████████| 16/16 [00:01<00:00,  8.20it/s]\n"
          ]
        },
        {
          "output_type": "stream",
          "name": "stdout",
          "text": [
            "valid_right_볼 - 수정본-2 Loss: 0.2938 Acc: 0.9008\n"
          ]
        },
        {
          "output_type": "stream",
          "name": "stderr",
          "text": [
            "Evaluating: 100%|██████████| 14/14 [00:01<00:00,  7.92it/s]\n"
          ]
        },
        {
          "output_type": "display_data",
          "data": {
            "text/plain": [
              "<Figure size 800x600 with 2 Axes>"
            ],
            "image/png": "[encoded data removed]"
          },
          "metadata": {}
        }
      ]
    },
    {
      "cell_type": "code",
      "source": [
        "import torch\n",
        "import torch.nn as nn\n",
        "import torch.optim as optim\n",
        "from torchvision import datasets, transforms, models\n",
        "import os\n",
        "from tqdm import tqdm  # tqdm 임포트\n",
        "from sklearn.metrics import confusion_matrix, classification_report\n",
        "import seaborn as sns\n",
        "import matplotlib.pyplot as plt\n",
        "import numpy as np\n",
        "\n",
        "# 데이터 전처리 (데이터 증강 추가)\n",
        "data_transforms = {\n",
        "    'train_left_볼 - 수정본-2': transforms.Compose([\n",
        "        transforms.Resize((224, 224)),\n",
        "        transforms.RandomHorizontalFlip(),  # 좌우 반전\n",
        "        transforms.RandomRotation(10),      # 랜덤 회전\n",
        "        transforms.ToTensor(),\n",
        "        transforms.Normalize([0.485, 0.456, 0.406], [0.229, 0.224, 0.225])\n",
        "    ]),\n",
        "    'train_right_볼 - 수정본-2': transforms.Compose([\n",
        "        transforms.Resize((224, 224)),\n",
        "        transforms.RandomHorizontalFlip(),\n",
        "        transforms.RandomRotation(10),\n",
        "        transforms.ToTensor(),\n",
        "        transforms.Normalize([0.485, 0.456, 0.406], [0.229, 0.224, 0.225])\n",
        "    ]),\n",
        "    'valid_left_볼 - 수정본-2': transforms.Compose([\n",
        "        transforms.Resize((224, 224)),\n",
        "        transforms.ToTensor(),\n",
        "        transforms.Normalize([0.485, 0.456, 0.406], [0.229, 0.224, 0.225])\n",
        "    ]),\n",
        "    'valid_right_볼 - 수정본-2': transforms.Compose([\n",
        "        transforms.Resize((224, 224)),\n",
        "        transforms.ToTensor(),\n",
        "        transforms.Normalize([0.485, 0.456, 0.406], [0.229, 0.224, 0.225])\n",
        "    ]),\n",
        "}\n",
        "\n",
        "data_dir = '/content/drive/MyDrive/'\n",
        "\n",
        "# 각각의 데이터를 불러오는 방법 설정\n",
        "image_datasets = {x: datasets.ImageFolder(os.path.join(data_dir, x), data_transforms[x])\n",
        "                  for x in ['train_left_볼 - 수정본-2', 'valid_left_볼 - 수정본-2', 'train_right_볼 - 수정본-2', 'valid_right_볼 - 수정본-2']}\n",
        "\n",
        "dataloaders = {x: torch.utils.data.DataLoader(image_datasets[x], batch_size=16, shuffle=True, num_workers=4)\n",
        "               for x in ['train_left_볼 - 수정본-2', 'valid_left_볼 - 수정본-2', 'train_right_볼 - 수정본-2', 'valid_right_볼 - 수정본-2']}\n",
        "\n",
        "dataset_sizes = {x: len(image_datasets[x]) for x in ['train_left_볼 - 수정본-2', 'valid_left_볼 - 수정본-2', 'train_right_볼 - 수정본-2', 'valid_right_볼 - 수정본-2']}\n",
        "class_names = image_datasets['train_left_볼 - 수정본-2'].classes\n",
        "\n",
        "# ResNeXt50 모델 불러오기 (사전 학습된 모델 사용)\n",
        "model = models.resnext50_32x4d(pretrained=True)\n",
        "\n",
        "# 마지막 레이어 수정 (이진 분류 작업을 위해 2개 클래스) + 드롭아웃 추가\n",
        "num_ftrs = model.fc.in_features\n",
        "model.fc = nn.Sequential(\n",
        "    nn.Dropout(0.5),  # 드롭아웃 추가 (50% 확률로 노드를 무작위로 제거)\n",
        "    nn.Linear(num_ftrs, 1)  # 이진 분류이므로 출력 차원을 1로 설정\n",
        ")\n",
        "\n",
        "# Xavier 초기화 함수 정의\n",
        "def init_weights(m):\n",
        "    if isinstance(m, nn.Linear):  # nn.Linear 레이어에만 Xavier 초기화 적용\n",
        "        torch.nn.init.xavier_uniform_(m.weight)\n",
        "        if m.bias is not None:\n",
        "            torch.nn.init.zeros_(m.bias)  # 편향은 0으로 초기화\n",
        "\n",
        "# Xavier 초기화를 모델에 적용\n",
        "model.apply(init_weights)\n",
        "\n",
        "# 모델을 GPU로 이동\n",
        "device = torch.device(\"cuda:0\" if torch.cuda.is_available() else \"cpu\")\n",
        "model = model.to(device)\n",
        "\n",
        "# 손실 함수와 최적화기 설정 (이진 분류를 위한 BCEWithLogitsLoss 사용)\n",
        "criterion = nn.BCEWithLogitsLoss()  # 이진 분류를 위한 손실 함수\n",
        "\n",
        "# AdamW 최적화기 사용\n",
        "optimizer = optim.AdamW(model.parameters(), lr=0.0001, weight_decay=1e-5)\n",
        "\n",
        "# 스케줄러 설정 (5 에폭마다 학습률을 0.1배로 감소)\n",
        "scheduler = optim.lr_scheduler.StepLR(optimizer, step_size=5, gamma=0.1)\n",
        "\n",
        "# 모델 학습 함수 (tqdm 추가)\n",
        "def train_model(model, criterion, optimizer, scheduler, num_epochs=10):\n",
        "    for epoch in range(num_epochs):\n",
        "        print(f'Epoch {epoch}/{num_epochs - 1}')\n",
        "        print('-' * 10)\n",
        "\n",
        "        for phase in ['train_left_볼 - 수정본-2', 'valid_left_볼 - 수정본-2', 'train_right_볼 - 수정본-2', 'valid_right_볼 - 수정본-2']:\n",
        "            if 'train' in phase:\n",
        "                model.train()  # 학습 모드\n",
        "            else:\n",
        "                model.eval()   # 평가 모드\n",
        "\n",
        "            running_loss = 0.0\n",
        "            running_corrects = 0\n",
        "\n",
        "            # tqdm을 사용하여 진행 상태 표시\n",
        "            for inputs, labels in tqdm(dataloaders[phase], desc=f'{phase} Phase Progress'):\n",
        "                inputs, labels = inputs.to(device), labels.to(device)\n",
        "\n",
        "                optimizer.zero_grad()\n",
        "\n",
        "                # 순방향\n",
        "                with torch.set_grad_enabled('train' in phase):\n",
        "                    outputs = model(inputs)\n",
        "                    outputs = outputs.view(-1)  # 이진 분류를 위해 출력 크기 조정\n",
        "                    preds = torch.round(torch.sigmoid(outputs))  # 시그모이드를 통해 확률로 변환 후 0 또는 1로 변환\n",
        "                    loss = criterion(outputs, labels.float())\n",
        "\n",
        "                    if 'train' in phase:\n",
        "                        loss.backward()\n",
        "                        optimizer.step()\n",
        "\n",
        "                running_loss += loss.item() * inputs.size(0)\n",
        "                running_corrects += torch.sum(preds == labels.data)\n",
        "\n",
        "            epoch_loss = running_loss / dataset_sizes[phase]\n",
        "            epoch_acc = running_corrects.double() / dataset_sizes[phase]\n",
        "\n",
        "            print(f'{phase} Loss: {epoch_loss:.4f} Acc: {epoch_acc:.4f}')\n",
        "\n",
        "        # 스케줄러 업데이트\n",
        "        scheduler.step()\n",
        "\n",
        "    return model\n",
        "\n",
        "# 모델 학습 실행\n",
        "model = train_model(model, criterion, optimizer, scheduler, num_epochs=10)\n",
        "\n",
        "# Confusion Matrix 및 Classification Report 출력 함수\n",
        "def plot_confusion_matrix_and_report(model, dataloaders, class_names):\n",
        "    model.eval()  # 평가 모드\n",
        "    all_preds = []\n",
        "    all_labels = []\n",
        "\n",
        "    with torch.no_grad():\n",
        "        for inputs, labels in tqdm(dataloaders['valid_left_볼 - 수정본-2'], desc=\"Evaluating\"):\n",
        "            inputs, labels = inputs.to(device), labels.to(device)\n",
        "\n",
        "            # 모델 예측\n",
        "            outputs = model(inputs)\n",
        "            outputs = outputs.view(-1)\n",
        "            preds = torch.round(torch.sigmoid(outputs))\n",
        "\n",
        "            all_preds.extend(preds.cpu().numpy())  # numpy 배열로 변환\n",
        "            all_labels.extend(labels.cpu().numpy())\n",
        "\n",
        "    # Confusion Matrix 생성\n",
        "    cm = confusion_matrix(all_labels, all_preds)\n",
        "\n",
        "    # Confusion Matrix 시각화\n",
        "    plt.figure(figsize=(8, 6))\n",
        "    sns.heatmap(cm, annot=True, fmt='d', cmap='Blues', xticklabels=class_names, yticklabels=class_names)\n",
        "    plt.xlabel('Predicted Labels')\n",
        "    plt.ylabel('True Labels')\n",
        "    plt.title('Confusion Matrix')\n",
        "    plt.show()\n",
        "\n",
        "    # Classification Report 출력 (정수형으로 변환)\n",
        "    print(classification_report(np.array(all_labels, dtype=int), np.array(all_preds, dtype=int)))\n",
        "\n",
        "# Confusion Matrix 및 Classification Report 시각화\n",
        "plot_confusion_matrix_and_report(model, dataloaders, class_names)"
      ],
      "metadata": {
        "colab": {
          "base_uri": "https://localhost:8080/",
          "height": 1000
        },
        "id": "2B_XTg5T1BzG",
        "outputId": "7365b76e-6455-4b7d-d920-b5b930a3f173"
      },
      "execution_count": 5,
      "outputs": [
        {
          "output_type": "stream",
          "name": "stderr",
          "text": [
            "/usr/local/lib/python3.10/dist-packages/torch/utils/data/dataloader.py:557: UserWarning: This DataLoader will create 4 worker processes in total. Our suggested max number of worker in current system is 2, which is smaller than what this DataLoader is going to create. Please be aware that excessive worker creation might get DataLoader running slow or even freeze, lower the worker number to avoid potential slowness/freeze if necessary.\n",
            "  warnings.warn(_create_warning_msg(\n",
            "/usr/local/lib/python3.10/dist-packages/torchvision/models/_utils.py:208: UserWarning: The parameter 'pretrained' is deprecated since 0.13 and may be removed in the future, please use 'weights' instead.\n",
            "  warnings.warn(\n",
            "/usr/local/lib/python3.10/dist-packages/torchvision/models/_utils.py:223: UserWarning: Arguments other than a weight enum or `None` for 'weights' are deprecated since 0.13 and may be removed in the future. The current behavior is equivalent to passing `weights=ResNeXt50_32X4D_Weights.IMAGENET1K_V1`. You can also use `weights=ResNeXt50_32X4D_Weights.DEFAULT` to get the most up-to-date weights.\n",
            "  warnings.warn(msg)\n"
          ]
        },
        {
          "output_type": "stream",
          "name": "stdout",
          "text": [
            "Epoch 0/9\n",
            "----------\n"
          ]
        },
        {
          "output_type": "stream",
          "name": "stderr",
          "text": [
            "train_left_볼 - 수정본-2 Phase Progress: 100%|██████████| 88/88 [00:28<00:00,  3.10it/s]\n"
          ]
        },
        {
          "output_type": "stream",
          "name": "stdout",
          "text": [
            "train_left_볼 - 수정본-2 Loss: 0.3294 Acc: 0.8632\n"
          ]
        },
        {
          "output_type": "stream",
          "name": "stderr",
          "text": [
            "valid_left_볼 - 수정본-2 Phase Progress: 100%|██████████| 14/14 [00:01<00:00,  7.71it/s]\n"
          ]
        },
        {
          "output_type": "stream",
          "name": "stdout",
          "text": [
            "valid_left_볼 - 수정본-2 Loss: 0.2591 Acc: 0.8848\n"
          ]
        },
        {
          "output_type": "stream",
          "name": "stderr",
          "text": [
            "train_right_볼 - 수정본-2 Phase Progress: 100%|██████████| 77/77 [00:19<00:00,  3.89it/s]\n"
          ]
        },
        {
          "output_type": "stream",
          "name": "stdout",
          "text": [
            "train_right_볼 - 수정본-2 Loss: 0.2341 Acc: 0.9135\n"
          ]
        },
        {
          "output_type": "stream",
          "name": "stderr",
          "text": [
            "valid_right_볼 - 수정본-2 Phase Progress: 100%|██████████| 16/16 [00:02<00:00,  7.73it/s]\n"
          ]
        },
        {
          "output_type": "stream",
          "name": "stdout",
          "text": [
            "valid_right_볼 - 수정본-2 Loss: 0.2240 Acc: 0.9256\n",
            "Epoch 1/9\n",
            "----------\n"
          ]
        },
        {
          "output_type": "stream",
          "name": "stderr",
          "text": [
            "train_left_볼 - 수정본-2 Phase Progress: 100%|██████████| 88/88 [00:22<00:00,  4.00it/s]\n"
          ]
        },
        {
          "output_type": "stream",
          "name": "stdout",
          "text": [
            "train_left_볼 - 수정본-2 Loss: 0.2021 Acc: 0.9231\n"
          ]
        },
        {
          "output_type": "stream",
          "name": "stderr",
          "text": [
            "valid_left_볼 - 수정본-2 Phase Progress: 100%|██████████| 14/14 [00:03<00:00,  4.62it/s]\n"
          ]
        },
        {
          "output_type": "stream",
          "name": "stdout",
          "text": [
            "valid_left_볼 - 수정본-2 Loss: 0.2844 Acc: 0.8710\n"
          ]
        },
        {
          "output_type": "stream",
          "name": "stderr",
          "text": [
            "train_right_볼 - 수정본-2 Phase Progress: 100%|██████████| 77/77 [00:19<00:00,  3.95it/s]\n"
          ]
        },
        {
          "output_type": "stream",
          "name": "stdout",
          "text": [
            "train_right_볼 - 수정본-2 Loss: 0.1944 Acc: 0.9217\n"
          ]
        },
        {
          "output_type": "stream",
          "name": "stderr",
          "text": [
            "valid_right_볼 - 수정본-2 Phase Progress: 100%|██████████| 16/16 [00:02<00:00,  7.74it/s]\n"
          ]
        },
        {
          "output_type": "stream",
          "name": "stdout",
          "text": [
            "valid_right_볼 - 수정본-2 Loss: 0.4060 Acc: 0.8760\n",
            "Epoch 2/9\n",
            "----------\n"
          ]
        },
        {
          "output_type": "stream",
          "name": "stderr",
          "text": [
            "train_left_볼 - 수정본-2 Phase Progress: 100%|██████████| 88/88 [00:22<00:00,  3.94it/s]\n"
          ]
        },
        {
          "output_type": "stream",
          "name": "stdout",
          "text": [
            "train_left_볼 - 수정본-2 Loss: 0.1879 Acc: 0.9302\n"
          ]
        },
        {
          "output_type": "stream",
          "name": "stderr",
          "text": [
            "valid_left_볼 - 수정본-2 Phase Progress: 100%|██████████| 14/14 [00:02<00:00,  6.27it/s]\n"
          ]
        },
        {
          "output_type": "stream",
          "name": "stdout",
          "text": [
            "valid_left_볼 - 수정본-2 Loss: 0.1704 Acc: 0.9309\n"
          ]
        },
        {
          "output_type": "stream",
          "name": "stderr",
          "text": [
            "train_right_볼 - 수정본-2 Phase Progress: 100%|██████████| 77/77 [00:20<00:00,  3.77it/s]\n"
          ]
        },
        {
          "output_type": "stream",
          "name": "stdout",
          "text": [
            "train_right_볼 - 수정본-2 Loss: 0.1532 Acc: 0.9396\n"
          ]
        },
        {
          "output_type": "stream",
          "name": "stderr",
          "text": [
            "valid_right_볼 - 수정본-2 Phase Progress: 100%|██████████| 16/16 [00:02<00:00,  7.65it/s]\n"
          ]
        },
        {
          "output_type": "stream",
          "name": "stdout",
          "text": [
            "valid_right_볼 - 수정본-2 Loss: 0.2641 Acc: 0.9050\n",
            "Epoch 3/9\n",
            "----------\n"
          ]
        },
        {
          "output_type": "stream",
          "name": "stderr",
          "text": [
            "train_left_볼 - 수정본-2 Phase Progress: 100%|██████████| 88/88 [00:21<00:00,  4.00it/s]\n"
          ]
        },
        {
          "output_type": "stream",
          "name": "stdout",
          "text": [
            "train_left_볼 - 수정본-2 Loss: 0.1663 Acc: 0.9430\n"
          ]
        },
        {
          "output_type": "stream",
          "name": "stderr",
          "text": [
            "valid_left_볼 - 수정본-2 Phase Progress: 100%|██████████| 14/14 [00:01<00:00,  7.50it/s]\n"
          ]
        },
        {
          "output_type": "stream",
          "name": "stdout",
          "text": [
            "valid_left_볼 - 수정본-2 Loss: 0.2455 Acc: 0.8848\n"
          ]
        },
        {
          "output_type": "stream",
          "name": "stderr",
          "text": [
            "train_right_볼 - 수정본-2 Phase Progress: 100%|██████████| 77/77 [00:20<00:00,  3.84it/s]\n"
          ]
        },
        {
          "output_type": "stream",
          "name": "stdout",
          "text": [
            "train_right_볼 - 수정본-2 Loss: 0.1034 Acc: 0.9625\n"
          ]
        },
        {
          "output_type": "stream",
          "name": "stderr",
          "text": [
            "valid_right_볼 - 수정본-2 Phase Progress: 100%|██████████| 16/16 [00:03<00:00,  4.57it/s]\n"
          ]
        },
        {
          "output_type": "stream",
          "name": "stdout",
          "text": [
            "valid_right_볼 - 수정본-2 Loss: 0.2179 Acc: 0.9132\n",
            "Epoch 4/9\n",
            "----------\n"
          ]
        },
        {
          "output_type": "stream",
          "name": "stderr",
          "text": [
            "train_left_볼 - 수정본-2 Phase Progress: 100%|██████████| 88/88 [00:22<00:00,  3.95it/s]\n"
          ]
        },
        {
          "output_type": "stream",
          "name": "stdout",
          "text": [
            "train_left_볼 - 수정본-2 Loss: 0.1536 Acc: 0.9395\n"
          ]
        },
        {
          "output_type": "stream",
          "name": "stderr",
          "text": [
            "valid_left_볼 - 수정본-2 Phase Progress: 100%|██████████| 14/14 [00:01<00:00,  7.54it/s]\n"
          ]
        },
        {
          "output_type": "stream",
          "name": "stdout",
          "text": [
            "valid_left_볼 - 수정본-2 Loss: 0.2304 Acc: 0.9124\n"
          ]
        },
        {
          "output_type": "stream",
          "name": "stderr",
          "text": [
            "train_right_볼 - 수정본-2 Phase Progress: 100%|██████████| 77/77 [00:19<00:00,  3.92it/s]\n"
          ]
        },
        {
          "output_type": "stream",
          "name": "stdout",
          "text": [
            "train_right_볼 - 수정본-2 Loss: 0.1593 Acc: 0.9413\n"
          ]
        },
        {
          "output_type": "stream",
          "name": "stderr",
          "text": [
            "valid_right_볼 - 수정본-2 Phase Progress: 100%|██████████| 16/16 [00:02<00:00,  7.89it/s]\n"
          ]
        },
        {
          "output_type": "stream",
          "name": "stdout",
          "text": [
            "valid_right_볼 - 수정본-2 Loss: 0.4398 Acc: 0.8595\n",
            "Epoch 5/9\n",
            "----------\n"
          ]
        },
        {
          "output_type": "stream",
          "name": "stderr",
          "text": [
            "train_left_볼 - 수정본-2 Phase Progress: 100%|██████████| 88/88 [00:22<00:00,  3.90it/s]\n"
          ]
        },
        {
          "output_type": "stream",
          "name": "stdout",
          "text": [
            "train_left_볼 - 수정본-2 Loss: 0.1369 Acc: 0.9566\n"
          ]
        },
        {
          "output_type": "stream",
          "name": "stderr",
          "text": [
            "valid_left_볼 - 수정본-2 Phase Progress: 100%|██████████| 14/14 [00:01<00:00,  7.19it/s]\n"
          ]
        },
        {
          "output_type": "stream",
          "name": "stdout",
          "text": [
            "valid_left_볼 - 수정본-2 Loss: 0.1822 Acc: 0.9217\n"
          ]
        },
        {
          "output_type": "stream",
          "name": "stderr",
          "text": [
            "train_right_볼 - 수정본-2 Phase Progress: 100%|██████████| 77/77 [00:19<00:00,  3.94it/s]\n"
          ]
        },
        {
          "output_type": "stream",
          "name": "stdout",
          "text": [
            "train_right_볼 - 수정본-2 Loss: 0.0960 Acc: 0.9657\n"
          ]
        },
        {
          "output_type": "stream",
          "name": "stderr",
          "text": [
            "valid_right_볼 - 수정본-2 Phase Progress: 100%|██████████| 16/16 [00:02<00:00,  7.50it/s]\n"
          ]
        },
        {
          "output_type": "stream",
          "name": "stdout",
          "text": [
            "valid_right_볼 - 수정본-2 Loss: 0.2422 Acc: 0.9174\n",
            "Epoch 6/9\n",
            "----------\n"
          ]
        },
        {
          "output_type": "stream",
          "name": "stderr",
          "text": [
            "train_left_볼 - 수정본-2 Phase Progress: 100%|██████████| 88/88 [00:22<00:00,  3.98it/s]\n"
          ]
        },
        {
          "output_type": "stream",
          "name": "stdout",
          "text": [
            "train_left_볼 - 수정본-2 Loss: 0.1010 Acc: 0.9637\n"
          ]
        },
        {
          "output_type": "stream",
          "name": "stderr",
          "text": [
            "valid_left_볼 - 수정본-2 Phase Progress: 100%|██████████| 14/14 [00:02<00:00,  4.74it/s]\n"
          ]
        },
        {
          "output_type": "stream",
          "name": "stdout",
          "text": [
            "valid_left_볼 - 수정본-2 Loss: 0.2066 Acc: 0.9124\n"
          ]
        },
        {
          "output_type": "stream",
          "name": "stderr",
          "text": [
            "train_right_볼 - 수정본-2 Phase Progress: 100%|██████████| 77/77 [00:20<00:00,  3.80it/s]\n"
          ]
        },
        {
          "output_type": "stream",
          "name": "stdout",
          "text": [
            "train_right_볼 - 수정본-2 Loss: 0.0715 Acc: 0.9772\n"
          ]
        },
        {
          "output_type": "stream",
          "name": "stderr",
          "text": [
            "valid_right_볼 - 수정본-2 Phase Progress: 100%|██████████| 16/16 [00:02<00:00,  7.75it/s]\n"
          ]
        },
        {
          "output_type": "stream",
          "name": "stdout",
          "text": [
            "valid_right_볼 - 수정본-2 Loss: 0.2328 Acc: 0.9174\n",
            "Epoch 7/9\n",
            "----------\n"
          ]
        },
        {
          "output_type": "stream",
          "name": "stderr",
          "text": [
            "train_left_볼 - 수정본-2 Phase Progress: 100%|██████████| 88/88 [00:22<00:00,  3.92it/s]\n"
          ]
        },
        {
          "output_type": "stream",
          "name": "stdout",
          "text": [
            "train_left_볼 - 수정본-2 Loss: 0.0873 Acc: 0.9665\n"
          ]
        },
        {
          "output_type": "stream",
          "name": "stderr",
          "text": [
            "valid_left_볼 - 수정본-2 Phase Progress: 100%|██████████| 14/14 [00:01<00:00,  7.62it/s]\n"
          ]
        },
        {
          "output_type": "stream",
          "name": "stdout",
          "text": [
            "valid_left_볼 - 수정본-2 Loss: 0.2046 Acc: 0.9263\n"
          ]
        },
        {
          "output_type": "stream",
          "name": "stderr",
          "text": [
            "train_right_볼 - 수정본-2 Phase Progress: 100%|██████████| 77/77 [00:19<00:00,  3.86it/s]\n"
          ]
        },
        {
          "output_type": "stream",
          "name": "stdout",
          "text": [
            "train_right_볼 - 수정본-2 Loss: 0.0566 Acc: 0.9788\n"
          ]
        },
        {
          "output_type": "stream",
          "name": "stderr",
          "text": [
            "valid_right_볼 - 수정본-2 Phase Progress: 100%|██████████| 16/16 [00:03<00:00,  4.94it/s]\n"
          ]
        },
        {
          "output_type": "stream",
          "name": "stdout",
          "text": [
            "valid_right_볼 - 수정본-2 Loss: 0.2485 Acc: 0.9174\n",
            "Epoch 8/9\n",
            "----------\n"
          ]
        },
        {
          "output_type": "stream",
          "name": "stderr",
          "text": [
            "train_left_볼 - 수정본-2 Phase Progress: 100%|██████████| 88/88 [00:22<00:00,  3.93it/s]\n"
          ]
        },
        {
          "output_type": "stream",
          "name": "stdout",
          "text": [
            "train_left_볼 - 수정본-2 Loss: 0.0860 Acc: 0.9687\n"
          ]
        },
        {
          "output_type": "stream",
          "name": "stderr",
          "text": [
            "valid_left_볼 - 수정본-2 Phase Progress: 100%|██████████| 14/14 [00:01<00:00,  7.22it/s]\n"
          ]
        },
        {
          "output_type": "stream",
          "name": "stdout",
          "text": [
            "valid_left_볼 - 수정본-2 Loss: 0.2527 Acc: 0.8986\n"
          ]
        },
        {
          "output_type": "stream",
          "name": "stderr",
          "text": [
            "train_right_볼 - 수정본-2 Phase Progress: 100%|██████████| 77/77 [00:19<00:00,  3.92it/s]\n"
          ]
        },
        {
          "output_type": "stream",
          "name": "stdout",
          "text": [
            "train_right_볼 - 수정본-2 Loss: 0.0479 Acc: 0.9837\n"
          ]
        },
        {
          "output_type": "stream",
          "name": "stderr",
          "text": [
            "valid_right_볼 - 수정본-2 Phase Progress: 100%|██████████| 16/16 [00:02<00:00,  7.31it/s]\n"
          ]
        },
        {
          "output_type": "stream",
          "name": "stdout",
          "text": [
            "valid_right_볼 - 수정본-2 Loss: 0.2447 Acc: 0.9091\n",
            "Epoch 9/9\n",
            "----------\n"
          ]
        },
        {
          "output_type": "stream",
          "name": "stderr",
          "text": [
            "train_left_볼 - 수정본-2 Phase Progress: 100%|██████████| 88/88 [00:23<00:00,  3.76it/s]\n"
          ]
        },
        {
          "output_type": "stream",
          "name": "stdout",
          "text": [
            "train_left_볼 - 수정본-2 Loss: 0.0667 Acc: 0.9751\n"
          ]
        },
        {
          "output_type": "stream",
          "name": "stderr",
          "text": [
            "valid_left_볼 - 수정본-2 Phase Progress: 100%|██████████| 14/14 [00:01<00:00,  7.27it/s]\n"
          ]
        },
        {
          "output_type": "stream",
          "name": "stdout",
          "text": [
            "valid_left_볼 - 수정본-2 Loss: 0.2126 Acc: 0.9217\n"
          ]
        },
        {
          "output_type": "stream",
          "name": "stderr",
          "text": [
            "train_right_볼 - 수정본-2 Phase Progress: 100%|██████████| 77/77 [00:19<00:00,  3.93it/s]\n"
          ]
        },
        {
          "output_type": "stream",
          "name": "stdout",
          "text": [
            "train_right_볼 - 수정본-2 Loss: 0.0570 Acc: 0.9821\n"
          ]
        },
        {
          "output_type": "stream",
          "name": "stderr",
          "text": [
            "valid_right_볼 - 수정본-2 Phase Progress: 100%|██████████| 16/16 [00:02<00:00,  7.66it/s]\n"
          ]
        },
        {
          "output_type": "stream",
          "name": "stdout",
          "text": [
            "valid_right_볼 - 수정본-2 Loss: 0.2422 Acc: 0.9174\n"
          ]
        },
        {
          "output_type": "stream",
          "name": "stderr",
          "text": [
            "Evaluating: 100%|██████████| 14/14 [00:01<00:00,  7.63it/s]\n"
          ]
        },
        {
          "output_type": "display_data",
          "data": {
            "text/plain": [
              "<Figure size 800x600 with 2 Axes>"
            ],
            "image/png": "[encoded data removed]"
          },
          "metadata": {}
        },
        {
          "output_type": "stream",
          "name": "stdout",
          "text": [
            "              precision    recall  f1-score   support\n",
            "\n",
            "           0       0.90      0.85      0.87        61\n",
            "           1       0.94      0.96      0.95       156\n",
            "\n",
            "    accuracy                           0.93       217\n",
            "   macro avg       0.92      0.91      0.91       217\n",
            "weighted avg       0.93      0.93      0.93       217\n",
            "\n"
          ]
        }
      ]
    },
    {
      "cell_type": "code",
      "source": [],
      "metadata": {
        "id": "FH_budNJHSfA"
      },
      "execution_count": null,
      "outputs": []
    }
  ]
}